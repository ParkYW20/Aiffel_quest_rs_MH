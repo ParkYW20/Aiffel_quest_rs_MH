{
 "cells": [
  {
   "cell_type": "markdown",
   "id": "1d41602e",
   "metadata": {},
   "source": [
    "# [프로젝트] 모든 장르 간 편향성 측정\n",
    "## STEP1. 형태소 분석기를 이용해 품사가 명사인 경우 해당 단어 추출\n",
    "## STEP2. 추출된 결과로 embedding model 만들기\n",
    "## STEP3. target, attribute 단어 셋 만들기\n",
    "## STEP4. WEAT score 계산과 시각화\n",
    "영화 시놉시스 코퍼스 - 영화 구분, 영화 장르 간 내재된 편향성 측정\n",
    "\n",
    "모든 장르에 대해 영화 구분과의 편향성 정도 측정해보기"
   ]
  },
  {
   "cell_type": "markdown",
   "id": "1be6e027",
   "metadata": {},
   "source": [
    "### STEP1. 형태소 분석기를 이용해 품사가 명사인 경우 해당 단어 추출"
   ]
  },
  {
   "cell_type": "code",
   "execution_count": 1,
   "id": "36b43cba",
   "metadata": {
    "scrolled": true
   },
   "outputs": [
    {
     "name": "stdout",
     "output_type": "stream",
     "text": [
      "사운드 엔지니어 상우(유지태 분)는 치매에 걸린 할머니(백성희 분)와\n",
      " 젊은 시절 상처한 한 아버지(박인환 분), 고모(신신애 분)와 함께 살고 있다.\n",
      " 어느 겨울 그는 지방 방송국 라디오 PD 은수(이영애 분)를 만난다.\n",
      " 자연의 소리를 채집해 틀어주는 라디오 프로그램을 준비하는 은수는 상우와 녹음 여행을 떠난다.\n",
      " 자연스레 가까워지는 두 사람은 어느 날, 은수의 아파트에서 밤을 보낸다.\n",
      " 너무 쉽게 사랑에 빠진 두 사람... 상우는 주체할 수 없을 정도로 그녀에게 빨려든다.\n",
      " 그러나 겨울에 만난 두 사람의 관계는 봄을 지나 여름을 맞이하면서 삐걱거린다.\n",
      " 이혼 경험이 있는 은수는 상우에게 결혼할 생각이 없다며 부담스러운 표정을 내비친다.\n",
      " \"어떻게 사랑이 변하니?...\"라고 묻는 상우에게 은수는 그저 \"헤어져\" 라고 단호하게 말한다.\n",
      " 영원히 변할 것 같지 않던 사랑이 변하고, 그 사실을 받아들이지 못하는 상우는 어찌 할 바를 모른다.\n",
      " 은수를 잊지 못하는 상우는 미련과 집착의 감정을 이기지 못하고 서울과 강릉을 오간다.\n",
      "유사 이래 연령, 성별, 빈부의 차이와 정치적인 입장을 불문하고 일거에 국민을 통합해 온 '애국심'이라는 성역에 일침을 가하는 다큐멘터리. 재작년 전국 민족민주 유가족협의회의 장기농성을 다룬 인상적인 다큐멘터리 <민들레>를 만들었던 독립영화집단 '빨간 눈사람'이 우리 사회 구석구석을 발빠르게 돌아다니며 애국심과 민족주의가 강요되는 현장을 발굴하여 카메라에 담았다. 박홍 서강대 명예총장, 이도형 '한국논단' 발행인, 축구해설자 신문선, 홍세화, 박노해 등 사회 각계의 '스타'들이 등장해 저마다의 확고한 신념을 성토한다. 감독 이경순과 최하동하는 이 작품을 위해 3년간 백여 명을 인터뷰했다고 한다. 2001 올해의 독립영화상 수상.\n",
      " 민족과 국가란 공동체에서 부단히 권력과 부를 얻는 자, 나아가 민족과 국가란 공동체에서 얻은 신분과 부귀를 영원히 그의 자손에게 대물림하려는 자, 그래서 민족과 국가란 공동체를 부단히 유지해야만 하는 자, 따라서 민족과 국가란 공동체의 당위성과 개인의 가치를 초월하는 그 존엄성을 끝도 없이 창조하고 되뇌어야 하는 자, 종국에는 민족과 국가란 공동체에 속해 있다고 태내에서부터 세뇌된 모든 이들의 삶과 행동에서 영원히 자기복제되는 순환의 고리, 영생하는 애국의 원동력은 그 순환의 골에서 온다.\n",
      "엽기적인 살인사건이 발생한 장소를 관광하는 투어팀. 그 팀에서 관광객들은 살인사건과 관련하여 히스테리컬한 반응을 보이는데 과연 이들의 정체는? (Tourists see whrer a murder take place. They respond hysterically to the murder…what are they?)\n",
      " 제46회 발라돌리드 국제영화제 (2001, 스페인)\n",
      "착하지만 엉뚱한 태희(배두나 분), 예쁜 깍쟁이 혜주(이요원 분), 그림을 잘 그리는 지영(옥지영 분), 명랑한 쌍둥이 비류(이은실 분)와 온조(이은주 분)는 단짝친구들. 늘 함께였던 그들이지만 스무 살이 되면서 길이 달라진다. 증권회사에 입사한 혜주는 성공한 커리어우먼의 야심을 키우고 미술에 재능이 있는 지영은 유학을 꿈꾼다. 한편 태희는 봉사활동에서 알게 된 뇌성마비 시인을 좋아하는데...\n",
      "  어느 날 지영이 길 잃은 새끼 고양이 티티를 만남면서 스무 살 그녀들의 삶에 고양이 한 마리가 끼어들게 된다. 혼자 있길 좋아하고, 쉽게 마음을 열지 않는 신비로운 동물 고양이. 고양이를 닮은 스무 살 그녀들. 고양이 티티와 함께 한 시간동안 삶은 예상못한 방향으로 흘러가지만 마침내 그녀들만의 해결책을 찾게 되는데... 사랑스런 몽상가 태희, 아름다운 야심가 혜주, 신비로운 아웃사이더 지영. 마지막으로 고양이를 부탁받은 사람은 누구일까?\n",
      "인도 등 아시아 식민지에 처음 발을 디딘 뒤 여행하고 “경영”한 이들은 과연 누구였을까? 과거의 이미지들은, 이민과 인종 문제, ‘오리엔탈리즘’이 격렬히 충돌하고 있는 현재와 강력하게 공명한다.\n",
      " [제19회 인디다큐페스티발]\n",
      "홀로 살아가는 미국 할머니와 한국 할머니의 이야기. 공원에서 가끔 마주치게 되는 그들은 비록 언어 소통의 어려움을 겪지만 시간이 흘러감에 따라 서로 가까워져 그들의 외로움과 우정을 공유하게 된다. 겨울이 지나고 봄이 왔을 때 길가의 민들레 홀씨는 삶의 이치를 말해주듯 한 할머니의 주위를 맴돈다. (Two elderly widows, an American and a Korean, frequent the same park in Philadelphia and attempt a friendship, though the Korean widow speaks no English. Driven by loneliness and a spark of hope, they persevere within the limits of body language, and the outcome poses a question of life as fundamental as a flower.)\n"
     ]
    }
   ],
   "source": [
    "import os\n",
    "\n",
    "with open(os.getenv('HOME')+'/aiffel/weat/synopsis.txt', 'r') as file:\n",
    "    for i in range(20):\n",
    "        print(file.readline(), end='')"
   ]
  },
  {
   "cell_type": "markdown",
   "id": "dbcaf023",
   "metadata": {},
   "source": [
    "#### synopsis.txt 파일을 읽어 품사가 명사인 경우만 `tokenized` 변수명 저장\n",
    "- konlpy 패키지 사용"
   ]
  },
  {
   "cell_type": "code",
   "execution_count": 2,
   "id": "20415a92",
   "metadata": {},
   "outputs": [],
   "source": [
    "# 약 15분정도 걸립니다.\n",
    "from konlpy.tag import Okt\n",
    "okt = Okt()\n",
    "tokenized = []\n",
    "with open(os.getenv('HOME')+'/aiffel/weat/synopsis.txt', 'r') as file:\n",
    "    while True:\n",
    "        line = file.readline()\n",
    "        if not line: break\n",
    "        words = okt.pos(line, stem=True, norm=True)\n",
    "        res = []\n",
    "        for w in words:\n",
    "            if w[1] in [\"Noun\"]:      # \"Adjective\", \"Verb\" 등을 포함할 수도 있습니다.\n",
    "                res.append(w[0])    # 명사일 때만 tokenized 에 저장하게 됩니다. \n",
    "        tokenized.append(res)"
   ]
  },
  {
   "cell_type": "code",
   "execution_count": 3,
   "id": "ed4fdc95",
   "metadata": {},
   "outputs": [
    {
     "name": "stdout",
     "output_type": "stream",
     "text": [
      "71156\n"
     ]
    }
   ],
   "source": [
    "print(len(tokenized))"
   ]
  },
  {
   "cell_type": "markdown",
   "id": "f567a28b",
   "metadata": {},
   "source": [
    "### STEP2. 추출된 결과로 embedding model 만들기"
   ]
  },
  {
   "cell_type": "code",
   "execution_count": 4,
   "id": "5d78d643",
   "metadata": {},
   "outputs": [
    {
     "data": {
      "text/plain": [
       "[('작품', 0.891642153263092),\n",
       " ('다큐멘터리', 0.855538547039032),\n",
       " ('드라마', 0.8122952580451965),\n",
       " ('소재', 0.8039849400520325),\n",
       " ('영화로', 0.7946990728378296),\n",
       " ('형식', 0.781105637550354),\n",
       " ('주제', 0.7794764637947083),\n",
       " ('영상', 0.7749284505844116),\n",
       " ('코미디', 0.7710517644882202),\n",
       " ('감동', 0.7694010138511658)]"
      ]
     },
     "execution_count": 4,
     "metadata": {},
     "output_type": "execute_result"
    }
   ],
   "source": [
    "from gensim.models import Word2Vec\n",
    "\n",
    "# tokenized에 담긴 데이터를 가지고 나만의 Word2Vec을 생성합니다. (Gensim 4.0 기준)\n",
    "model = Word2Vec(tokenized, vector_size=100, window=5, min_count=3, sg=0)  \n",
    "model.wv.most_similar(positive=['영화'])\n",
    "\n",
    "# Gensim 3.X 에서는 아래와 같이 생성합니다. \n",
    "# model = Word2Vec(tokenized, size=100, window=5, min_count=3, sg=0)  \n",
    "# model.most_similar(positive=['영화'])"
   ]
  },
  {
   "cell_type": "code",
   "execution_count": 5,
   "id": "5958518e",
   "metadata": {},
   "outputs": [
    {
     "data": {
      "text/plain": [
       "[('나비문신', 0.6939808130264282),\n",
       " ('진심', 0.6903746724128723),\n",
       " ('이별', 0.6893526911735535),\n",
       " ('토마슈', 0.6885605454444885),\n",
       " ('애정', 0.6875697374343872),\n",
       " ('연애', 0.6873390674591064),\n",
       " ('첫사랑', 0.6855354309082031),\n",
       " ('행복', 0.6824049949645996),\n",
       " ('아르튬', 0.6811994314193726),\n",
       " ('만남', 0.6800415515899658)]"
      ]
     },
     "execution_count": 5,
     "metadata": {},
     "output_type": "execute_result"
    }
   ],
   "source": [
    "# Word2Vec 훈련 확인\n",
    "model.wv.most_similar(positive=['사랑'])"
   ]
  },
  {
   "cell_type": "code",
   "execution_count": 6,
   "id": "f6099792",
   "metadata": {},
   "outputs": [
    {
     "data": {
      "text/plain": [
       "[('시나리오', 0.9055874943733215),\n",
       " ('영화감독', 0.8905506134033203),\n",
       " ('대본', 0.8790368437767029),\n",
       " ('장영', 0.8751662373542786),\n",
       " ('영감', 0.8737584948539734),\n",
       " ('캐스팅', 0.8700755834579468),\n",
       " ('팬', 0.8676602840423584),\n",
       " ('배우', 0.8638417720794678),\n",
       " ('예술가', 0.8624330759048462),\n",
       " ('뤽', 0.8562567234039307)]"
      ]
     },
     "execution_count": 6,
     "metadata": {},
     "output_type": "execute_result"
    }
   ],
   "source": [
    "model.wv.most_similar(positive=['연극'])"
   ]
  },
  {
   "cell_type": "markdown",
   "id": "d387e72c",
   "metadata": {},
   "source": [
    "### STEP3. target, attribute 단어 셋 만들기\n",
    "---\n",
    "(문제)TF-IDF로 해당 데이터를 가장 잘 표현하는 단어 셋 만들기\n",
    "- 중복되는 단어 발생 문제. 개념축을 표현하는 단어가 제대로 선정되지 않음\n",
    "- 새로운 대표 단어 셋 구축. 중복된 단어 잘 제거하기\n",
    "\n",
    "#### 'synopsis_art.txt', 'synopsis_gen.txt' 두 파일을 읽고, 위에서 했던 것과 마찬가지로 명사에 대해서만 추출하여 art, gen 변수에 할당"
   ]
  },
  {
   "cell_type": "code",
   "execution_count": 7,
   "id": "7a1ea9f3",
   "metadata": {},
   "outputs": [],
   "source": [
    "import os\n",
    "from sklearn.feature_extraction.text import TfidfVectorizer\n",
    "import numpy as np\n",
    "from konlpy.tag import Okt\n",
    "\n",
    "art_txt = 'synopsis_art.txt'\n",
    "gen_txt = 'synopsis_gen.txt'\n",
    "\n",
    "def read_token(file_name):\n",
    "    okt = Okt()\n",
    "    result = []\n",
    "    with open(os.getenv('HOME')+'/aiffel/weat/'+file_name, 'r') as fread: \n",
    "        print(file_name, '파일을 읽고 있습니다.')\n",
    "        while True:\n",
    "            line = fread.readline() \n",
    "            if not line: break \n",
    "            tokenlist = okt.pos(line, stem=True, norm=True) \n",
    "            for word in tokenlist:\n",
    "                if word[1] in [\"Noun\"]:#, \"Adjective\", \"Verb\"]:\n",
    "                    result.append((word[0])) \n",
    "    return ' '.join(result)"
   ]
  },
  {
   "cell_type": "code",
   "execution_count": 8,
   "id": "1650cc81",
   "metadata": {},
   "outputs": [
    {
     "name": "stdout",
     "output_type": "stream",
     "text": [
      "synopsis_art.txt 파일을 읽고 있습니다.\n",
      "synopsis_gen.txt 파일을 읽고 있습니다.\n"
     ]
    }
   ],
   "source": [
    "# 2개의 파일을 처리(10분))\n",
    "art = read_token(art_txt)\n",
    "gen = read_token(gen_txt)"
   ]
  },
  {
   "cell_type": "markdown",
   "id": "a7e45ddc",
   "metadata": {},
   "source": [
    "#### TfidVectorizer()을 통한 TF-IDF 방식 사용\n",
    "##### WEAT 계산\n",
    "- 총 4개의 단어 셋 X, Y, A, B가 필요\n",
    "- 예술 영화 단어 art_txt -> art 단어 고르기.\n",
    "- 예술 영화를 잘 대표하는 단어?? -> 예술영화-ok, 일반영화-no"
   ]
  },
  {
   "cell_type": "code",
   "execution_count": 9,
   "id": "4f92cc8e",
   "metadata": {},
   "outputs": [
    {
     "name": "stdout",
     "output_type": "stream",
     "text": [
      "(2, 41082)\n"
     ]
    }
   ],
   "source": [
    "vectorizer = TfidfVectorizer()\n",
    "X = vectorizer.fit_transform([art, gen])\n",
    "\n",
    "print(X.shape)"
   ]
  },
  {
   "cell_type": "code",
   "execution_count": 10,
   "id": "08af48e1",
   "metadata": {},
   "outputs": [
    {
     "name": "stdout",
     "output_type": "stream",
     "text": [
      "23976\n",
      "영화\n"
     ]
    },
    {
     "name": "stderr",
     "output_type": "stream",
     "text": [
      "/opt/conda/lib/python3.9/site-packages/sklearn/utils/deprecation.py:87: FutureWarning: Function get_feature_names is deprecated; get_feature_names is deprecated in 1.0 and will be removed in 1.2. Please use get_feature_names_out instead.\n",
      "  warnings.warn(msg, category=FutureWarning)\n"
     ]
    }
   ],
   "source": [
    "print(vectorizer.vocabulary_['영화'])\n",
    "print(vectorizer.get_feature_names()[23976])"
   ]
  },
  {
   "cell_type": "code",
   "execution_count": 11,
   "id": "b2d84f72",
   "metadata": {},
   "outputs": [
    {
     "name": "stdout",
     "output_type": "stream",
     "text": [
      "예술영화를 대표하는 단어들:\n",
      "그녀, 자신, 시작, 위해, 사랑, 사람, 영화, 친구, 남자, 가족, 이야기, 마을, 사건, 마음, 세상, 아버지, 아이, 엄마, 모든, 여자, 대한, 서로, 과연, 다시, 시간, 아들, 소녀, 아내, 다른, 사이, 영화제, 세계, 사실, 하나, 점점, 남편, 감독, 여행, 인생, 발견, 모두, 순간, 우리, 가장, 마지막, 생활, 아빠, 모습, 통해, 죽음, 기억, 비밀, 학교, 음악, 한편, 소년, 생각, 도시, 명의, 사고, 결혼, 전쟁, 때문, 위기, 이제, 최고, 이자, 과거, 일상, 경찰, 상황, 간다, 미국, 결심, 운명, 현실, 관계, 지금, 단편, 여인, 하루, 이름, 이후, 준비, 인간, 감정, 만난, 국제, 처음, 충격, 살인, 누구, 동안, 존재, 그린, 어머니, 연인, 계속, 동생, 작품, \n",
      "\n",
      "일반영화를 대표하는 단어들:\n",
      "자신, 그녀, 영화제, 위해, 사람, 시작, 국제, 영화, 친구, 사랑, 남자, 이야기, 대한, 서울, 여자, 사건, 남편, 아이, 가족, 아버지, 다른, 마을, 시간, 엄마, 아들, 모든, 단편, 마음, 사실, 다시, 세계, 모습, 작품, 통해, 생각, 서로, 세상, 발견, 감독, 아내, 관계, 소녀, 사이, 하나, 우리, 애니메이션, 때문, 여성, 죽음, 과연, 점점, 인간, 생활, 한편, 결혼, 상황, 모두, 기억, 명의, 소년, 여행, 가장, 간다, 순간, 이제, 도시, 비밀, 학교, 과거, 가지, 이자, 경찰, 마지막, 미국, 동안, 전쟁, 주인공, 대해, 존재, 현실, 연출, 사고, 살인, 일상, 어머니, 계속, 사회, 인생, 다큐멘터리, 부문, 섹스, 최고, 바로, 동생, 의도, 하루, 위기, 계획, 정체, 한국, "
     ]
    }
   ],
   "source": [
    "m1 = X[0].tocoo()   # art를 TF-IDF로 표현한 sparse matrix를 가져옵니다. \n",
    "m2 = X[1].tocoo()   # gen을 TF-IDF로 표현한 sparse matrix를 가져옵니다. \n",
    "\n",
    "w1 = [[i, j] for i, j in zip(m1.col, m1.data)]\n",
    "w2 = [[i, j] for i, j in zip(m2.col, m2.data)]\n",
    "\n",
    "w1.sort(key=lambda x: x[1], reverse=True)   #art를 구성하는 단어들을 TF-IDF가 높은 순으로 정렬합니다. \n",
    "w2.sort(key=lambda x: x[1], reverse=True)   #gen을 구성하는 단어들을 TF-IDF가 높은 순으로 정렬합니다. \n",
    "\n",
    "print('예술영화를 대표하는 단어들:')\n",
    "for i in range(100):\n",
    "    print(vectorizer.get_feature_names()[w1[i][0]], end=', ')\n",
    "\n",
    "print('\\n')\n",
    "    \n",
    "print('일반영화를 대표하는 단어들:')\n",
    "for i in range(100):\n",
    "    print(vectorizer.get_feature_names()[w2[i][0]], end=', ')"
   ]
  },
  {
   "cell_type": "markdown",
   "id": "4b4c2742",
   "metadata": {},
   "source": [
    "(문제) \n",
    "두 개념 대표 단어 TF-IDF 높은 순으로 추출, 중복된 단어가 많음\n",
    "\n",
    "단어가 서로 중복되지 않게 단어 셋 추출."
   ]
  },
  {
   "cell_type": "markdown",
   "id": "ede47096",
   "metadata": {},
   "source": [
    "### 중복된 단어를 잘 제거하기 위한 불용어 처리와 중복 제거\n",
    "---\n",
    "#### 1.\t불용어 처리: stopwords 리스트를 정의하여, 불용어에 해당하는 단어들은 target_art 및 target_gen 리스트에 포함되지 않도록 필터링합니다.\n",
    "#### 2.\t중복 단어 제거: 이미 선택된 단어는 다시 리스트에 추가되지 않도록 target_art, target_gen에서 중복 단어를 필터링합니다.\n",
    "#### 3.\tWord2Vec 모델 사용: 단어가 Word2Vec 모델의 vocabulary에 존재하는 경우에만 선택하도록 조건을 추가하여 단어의 의미론적 정보를 유지합니다.\n",
    "#### 4.\t고유 단어 추출: extract_unique_words() 함수는 두 그룹에서 각각 고유한 단어를 추출합니다. w1은 art 관련 단어, w2는 일반 영화를 나타내는 단어들이며, 다른 그룹에서 중복되지 않는 단어만 선택됩니다."
   ]
  },
  {
   "attachments": {
    "image.png": {
     "image/png": "[encoded data removed]"
    }
   },
   "cell_type": "markdown",
   "id": "a132c66e",
   "metadata": {},
   "source": [
    "**미리 실습해 봤던 결과를보면, `자신`, `위해` 가 많이 나온 것을 알 수 있다.**\n",
    "![image.png](attachment:image.png)\n",
    "\n",
    "이건 그냥 봐도 의미없는 단어거나 상관없다는 판단 하에 다시 불용어처리로 넣어서 다시 출력해봤다."
   ]
  },
  {
   "cell_type": "code",
   "execution_count": 12,
   "id": "0f1a54ec",
   "metadata": {},
   "outputs": [
    {
     "name": "stdout",
     "output_type": "stream",
     "text": [
      "예술영화를 대표하는 단어들: ['아빠', '음악', '결심', '운명', '지금', '여인', '이름', '이후', '준비', '감정', '만난', '처음', '충격', '누구', '그린']\n",
      "일반영화를 대표하는 단어들: ['서울', '애니메이션', '여성', '가지', '주인공', '대해', '연출', '사회', '다큐멘터리', '부문', '섹스', '바로', '의도', '계획', '정체']\n"
     ]
    }
   ],
   "source": [
    "from sklearn.feature_extraction.text import TfidfVectorizer\n",
    "import gensim\n",
    "\n",
    "# 불용어 리스트\n",
    "stopwords = ['영화', '배우', '감독', '작품', '연기', '관객', '장면', '자신', '위해']\n",
    "\n",
    "# TF-IDF 벡터화된 데이터에서 고유 단어 추출을 위한 함수\n",
    "def extract_unique_words(w1, w2, vectorizer, model, n=15):\n",
    "    w1_, w2_ = [], []\n",
    "    \n",
    "    # TF-IDF로 추출된 feature names를 가져옴\n",
    "    feature_names = vectorizer.get_feature_names_out()\n",
    "    \n",
    "    # w1 (art)와 w2 (gen)에서의 단어 리스트 생성\n",
    "    for i in range(100):\n",
    "        w1_.append(feature_names[w1[i][0]])\n",
    "        w2_.append(feature_names[w2[i][0]])\n",
    "    \n",
    "    # 중복된 단어와 불용어를 제거하고 고유 단어 추출\n",
    "    target_art, target_gen = [], []\n",
    "    \n",
    "    for i in range(100):\n",
    "        # w1에만 있고 w2에는 없는 단어를 선택하고 불용어와 중복 단어 필터링\n",
    "        if (w1_[i] not in w2_) and (w1_[i] not in stopwords) and (w1_[i] in model.wv) and (w1_[i] not in target_art):\n",
    "            target_art.append(w1_[i])\n",
    "        if len(target_art) == n: \n",
    "            break \n",
    "\n",
    "    for i in range(100):\n",
    "        # w2에만 있고 w1에는 없는 단어를 선택하고 불용어와 중복 단어 필터링\n",
    "        if (w2_[i] not in w1_) and (w2_[i] not in stopwords) and (w2_[i] in model.wv) and (w2_[i] not in target_gen):\n",
    "            target_gen.append(w2_[i])\n",
    "        if len(target_gen) == n: \n",
    "            break \n",
    "\n",
    "    return target_art, target_gen\n",
    "\n",
    "# TF-IDF 결과를 가정한 데이터 (TF-IDF 계산은 생략된 상태)\n",
    "# m1: art를 표현한 sparse matrix, m2: gen을 표현한 sparse matrix\n",
    "m1 = X[0].tocoo()   # art를 TF-IDF로 표현한 sparse matrix\n",
    "m2 = X[1].tocoo()   # gen을 TF-IDF로 표현한 sparse matrix\n",
    "\n",
    "# w1: art 단어의 인덱스 및 TF-IDF 점수 리스트, w2: gen 단어의 인덱스 및 TF-IDF 점수 리스트\n",
    "w1 = [[i, j] for i, j in zip(m1.col, m1.data)]\n",
    "w2 = [[i, j] for i, j in zip(m2.col, m2.data)]\n",
    "\n",
    "# TF-IDF 점수가 높은 순서대로 정렬\n",
    "w1.sort(key=lambda x: x[1], reverse=True)   # art를 구성하는 단어들을 TF-IDF가 높은 순으로 정렬\n",
    "w2.sort(key=lambda x: x[1], reverse=True)   # gen을 구성하는 단어들을 TF-IDF가 높은 순으로 정렬\n",
    "\n",
    "# 불용어 처리 및 중복 단어 제거 후 대표 단어 추출\n",
    "target_art, target_gen = extract_unique_words(w1, w2, vectorizer, model)\n",
    "\n",
    "# 결과 출력\n",
    "print(\"예술영화를 대표하는 단어들:\", target_art)\n",
    "print(\"일반영화를 대표하는 단어들:\", target_gen)"
   ]
  },
  {
   "cell_type": "code",
   "execution_count": 13,
   "id": "26b8d2ac",
   "metadata": {},
   "outputs": [],
   "source": [
    "genre_txt = ['synopsis_SF.txt', 'synopsis_family.txt', 'synopsis_show.txt', 'synopsis_horror.txt', 'synopsis_etc.txt', \n",
    "             'synopsis_documentary.txt', 'synopsis_drama.txt', 'synopsis_romance.txt', 'synopsis_musical.txt', \n",
    "             'synopsis_mystery.txt', 'synopsis_crime.txt', 'synopsis_historical.txt', 'synopsis_western.txt', \n",
    "             'synopsis_adult.txt', 'synopsis_thriller.txt', 'synopsis_animation.txt', 'synopsis_action.txt', \n",
    "             'synopsis_adventure.txt', 'synopsis_war.txt', 'synopsis_comedy.txt', 'synopsis_fantasy.txt']\n",
    "genre_name = ['SF', '가족', '공연', '공포(호러)', '기타', '다큐멘터리', '드라마', '멜로로맨스', '뮤지컬', '미스터리', '범죄', '사극', '서부극(웨스턴)',\n",
    "         '성인물(에로)', '스릴러', '애니메이션', '액션', '어드벤처', '전쟁', '코미디', '판타지']"
   ]
  },
  {
   "cell_type": "code",
   "execution_count": 14,
   "id": "d3474468",
   "metadata": {},
   "outputs": [
    {
     "name": "stdout",
     "output_type": "stream",
     "text": [
      "synopsis_SF.txt 파일을 읽고 있습니다.\n",
      "synopsis_family.txt 파일을 읽고 있습니다.\n",
      "synopsis_show.txt 파일을 읽고 있습니다.\n",
      "synopsis_horror.txt 파일을 읽고 있습니다.\n",
      "synopsis_etc.txt 파일을 읽고 있습니다.\n",
      "synopsis_documentary.txt 파일을 읽고 있습니다.\n",
      "synopsis_drama.txt 파일을 읽고 있습니다.\n",
      "synopsis_romance.txt 파일을 읽고 있습니다.\n",
      "synopsis_musical.txt 파일을 읽고 있습니다.\n",
      "synopsis_mystery.txt 파일을 읽고 있습니다.\n",
      "synopsis_crime.txt 파일을 읽고 있습니다.\n",
      "synopsis_historical.txt 파일을 읽고 있습니다.\n",
      "synopsis_western.txt 파일을 읽고 있습니다.\n",
      "synopsis_adult.txt 파일을 읽고 있습니다.\n",
      "synopsis_thriller.txt 파일을 읽고 있습니다.\n",
      "synopsis_animation.txt 파일을 읽고 있습니다.\n",
      "synopsis_action.txt 파일을 읽고 있습니다.\n",
      "synopsis_adventure.txt 파일을 읽고 있습니다.\n",
      "synopsis_war.txt 파일을 읽고 있습니다.\n",
      "synopsis_comedy.txt 파일을 읽고 있습니다.\n",
      "synopsis_fantasy.txt 파일을 읽고 있습니다.\n"
     ]
    }
   ],
   "source": [
    "# 장르 파일 토큰화\n",
    "genre = []\n",
    "for file_name in genre_txt:\n",
    "    genre.append(read_token(file_name))"
   ]
  },
  {
   "cell_type": "code",
   "execution_count": 15,
   "id": "51875b5c",
   "metadata": {},
   "outputs": [
    {
     "name": "stdout",
     "output_type": "stream",
     "text": [
      "(21, 42191)\n"
     ]
    }
   ],
   "source": [
    "vectorizer = TfidfVectorizer()\n",
    "X = vectorizer.fit_transform(genre)\n",
    "\n",
    "print(X.shape)"
   ]
  },
  {
   "attachments": {
    "image-2.png": {
     "image/png": "[encoded data removed]"
    },
    "image.png": {
     "image/png": "[encoded data removed]"
    }
   },
   "cell_type": "markdown",
   "id": "d27e40c6",
   "metadata": {},
   "source": [
    "![image-2.png](attachment:image-2.png)\n",
    "'드라마', '멜로로맨스', '액션', '코미디', '전쟁', '공포(호러)' 장르는\n",
    "\n",
    "![image.png](attachment:image.png)\n",
    "이정도 개수에서 \n",
    "\n",
    "모든 장르는\n",
    "21, 42191개로 늘어난 걸 알 수 있다."
   ]
  },
  {
   "cell_type": "code",
   "execution_count": 17,
   "id": "b6a96183",
   "metadata": {},
   "outputs": [
    {
     "name": "stdout",
     "output_type": "stream",
     "text": [
      "SF: 위해, 자신, 지구, 시작, 사람, 인류, 인간, 미래, 우주, 그녀, 로봇, 세계, 모든, 박사, 우주선, \n",
      "가족: 엄마, 아빠, 가족, 영화제, 자신, 위해, 친구, 아주르, 아버지, 시작, 그녀, 아들, 마을, 국제, 낙타, \n",
      "공연: 오페라, 사랑, 토스카, 실황, 올레, 자신, 카바, 그녀, 공연, 오텔로, 리골레토, 백작, 프레, 베르디, 위해, \n",
      "공포(호러): 시작, 위해, 사람, 자신, 친구, 그녀, 사건, 공포, 발견, 죽음, 마을, 가족, 악령, 남자, 좀비, \n",
      "기타: 영화제, 국제, 서울, 단편, 영화, 자신, 사람, 이야기, 그녀, 남자, 위해, 시작, 사랑, 뉴미디어, 페스티벌, \n",
      "다큐멘터리: 영화제, 영화, 다큐, 국제, 다큐멘터리, 사람, 이야기, 대한, 자신, 감독, 위해, 서울, 우리, 시작, 세계, \n",
      "드라마: 자신, 영화제, 그녀, 사람, 사랑, 영화, 위해, 시작, 국제, 남자, 친구, 이야기, 엄마, 여자, 아버지, \n",
      "멜로로맨스: 그녀, 사랑, 자신, 시작, 남편, 남자, 여자, 사람, 친구, 섹스, 위해, 마음, 결혼, 서로, 아내, \n",
      "뮤지컬: 뮤지컬, 사랑, 에스메랄다, 그녀, 음악, 충무로, 모차르트, 영화, 토스카, 자신, 니웨, 카바, 영화제, 바흐, 페뷔스, \n",
      "미스터리: 사건, 그녀, 시작, 자신, 위해, 사람, 발견, 사고, 진실, 죽음, 기억, 살인, 친구, 아내, 남자, \n",
      "범죄: 사건, 위해, 자신, 경찰, 시작, 그녀, 범죄, 조직, 살인, 사람, 마약, 형사, 남자, 모든, 살해, \n",
      "사극: 조선, 위해, 시작, 신기전, 사랑, 자신, 아가멤논, 황제, 그녀, 루안, 최고, 운명, 사람, 하선, 전쟁, \n",
      "서부극(웨스턴): 서부, 보안관, 위해, 벌린, 카우보이, 그레이프바인, 헨리, 마을, 자신, 개릿, 아이, 시작, 무법자, 프린트, 마적, \n",
      "성인물(에로): 그녀, 남편, 마사지, 자신, 섹스, 관계, 영화, 정사, 남자, 위해, 시작, 여자, 유부녀, 마음, 사랑, \n",
      "스릴러: 자신, 그녀, 사건, 시작, 위해, 사람, 살인, 남자, 발견, 아내, 경찰, 친구, 모든, 사실, 살해, \n",
      "애니메이션: 애니메이션, 국제, 영화제, 친구, 인디애니페스트, 위해, 자신, 시작, 사람, 페스티벌, 서울, 이야기, 아이, 마을, 소녀, \n",
      "액션: 위해, 자신, 시작, 조직, 사건, 사람, 그녀, 경찰, 전쟁, 모든, 목숨, 사실, 친구, 가족, 요원, \n",
      "어드벤처: 위해, 자신, 시작, 친구, 마을, 아버지, 영화, 아이, 사람, 여행, 세계, 앤트, 세상, 가족, 모험, \n",
      "전쟁: 전쟁, 독일군, 전투, 위해, 작전, 시작, 부대, 윈터스, 독일, 연합군, 미군, 임무, 자신, 사람, 나치, \n",
      "코미디: 그녀, 자신, 시작, 위해, 사랑, 사람, 친구, 영화, 남자, 여자, 영화제, 가족, 과연, 마을, 사건, \n",
      "판타지: 자신, 그녀, 시작, 위해, 사람, 사랑, 요괴, 영화제, 이야기, 영화, 소녀, 남자, 인간, 세상, 마을, \n"
     ]
    }
   ],
   "source": [
    "m = [X[i].tocoo() for i in range(X.shape[0])]\n",
    "\n",
    "w = [[[i, j] for i, j in zip(mm.col, mm.data)] for mm in m]\n",
    "\n",
    "for i in range(len(w)):\n",
    "    w[i].sort(key=lambda x: x[1], reverse=True)\n",
    "attributes = []\n",
    "for i in range(len(w)):\n",
    "    print(genre_name[i], end=': ')\n",
    "    attr = []\n",
    "    j = 0\n",
    "    while (len(attr) < 15):\n",
    "        if vectorizer.get_feature_names()[w[i][j][0]] in model.wv:\n",
    "            attr.append(vectorizer.get_feature_names()[w[i][j][0]])\n",
    "            print(vectorizer.get_feature_names()[w[i][j][0]], end=', ')\n",
    "        j += 1\n",
    "    attributes.append(attr)\n",
    "    print()"
   ]
  },
  {
   "cell_type": "markdown",
   "id": "7ef476ee",
   "metadata": {},
   "source": [
    "### STEP4. WEAT score 계산과 시각화\n",
    "traget_X는 art, target_Y는 gen, attribute_A는 '드라마', attribute_B는 '액션' 과 같이 정하기\n",
    "\n",
    "target_X 는 art, target_Y 는 gen으로 고정 -> attribute_A, attribute_B를 바꿔가면서 구해보기\n",
    "\n",
    "구현결과(21x21 매트릭스 형태 표현=matrix)"
   ]
  },
  {
   "cell_type": "code",
   "execution_count": 18,
   "id": "496fc571",
   "metadata": {},
   "outputs": [
    {
     "name": "stdout",
     "output_type": "stream",
     "text": [
      "WEAT Score: 0.34\n"
     ]
    }
   ],
   "source": [
    "import numpy as np\n",
    "from sklearn.metrics.pairwise import cosine_similarity\n",
    "\n",
    "# 단어 임베딩 벡터 간의 유사도를 계산하는 함수\n",
    "def cosine_similarity_score(vec1, vec2):\n",
    "    return cosine_similarity([vec1], [vec2])[0][0]\n",
    "\n",
    "# WEAT에서 s(w, A, B): w가 A와 B에 얼마나 더 가까운지 계산하는 함수\n",
    "def s(w, A, B):\n",
    "    # w와 A 그룹의 유사도 - w와 B 그룹의 유사도 계산\n",
    "    return np.mean([cosine_similarity_score(w, a) for a in A]) - np.mean([cosine_similarity_score(w, b) for b in B])\n",
    "\n",
    "# WEAT 점수를 계산하는 함수\n",
    "def weat_score(X, Y, A, B):\n",
    "    # 각 그룹 X와 Y의 WEAT s 값을 계산\n",
    "    s_X = np.array([s(x, A, B) for x in X])\n",
    "    s_Y = np.array([s(y, A, B) for y in Y])\n",
    "\n",
    "    # X와 Y의 평균 차이 계산\n",
    "    mean_X = np.mean(s_X)\n",
    "    mean_Y = np.mean(s_Y)\n",
    "    \n",
    "    # 표준 편차 계산\n",
    "    std_dev = np.std(np.concatenate([s_X, s_Y], axis=0))\n",
    "\n",
    "    # WEAT 점수 계산 (표준 편차가 0인 경우 0을 반환)\n",
    "    return (mean_X - mean_Y) / std_dev if std_dev != 0 else 0\n",
    "\n",
    "# 예시 단어 벡터 집합 X, Y, A, B (2차원 배열로 생성)\n",
    "X = np.random.rand(10, 300)  # 10개의 300차원 벡터로 구성된 X 집합 (임의의 데이터)\n",
    "Y = np.random.rand(10, 300)  # 10개의 300차원 벡터로 구성된 Y 집합 (임의의 데이터)\n",
    "A = np.random.rand(5, 300)   # 5개의 300차원 벡터로 구성된 A 속성 (임의의 데이터)\n",
    "B = np.random.rand(5, 300)   # 5개의 300차원 벡터로 구성된 B 속성 (임의의 데이터)\n",
    "\n",
    "# WEAT 점수 계산\n",
    "weat_result = weat_score(X, Y, A, B)\n",
    "print(f\"WEAT Score: {round(weat_result, 3)}\")"
   ]
  },
  {
   "cell_type": "code",
   "execution_count": 19,
   "id": "37891f7e",
   "metadata": {},
   "outputs": [],
   "source": [
    "matrix = [[0 for _ in range(len(genre_name))] for _ in range(len(genre_name))]"
   ]
  },
  {
   "cell_type": "code",
   "execution_count": 20,
   "id": "99ff6fc7",
   "metadata": {},
   "outputs": [],
   "source": [
    "X = np.array([model.wv[word] for word in target_art])\n",
    "Y = np.array([model.wv[word] for word in target_gen])\n",
    "\n",
    "for i in range(len(genre_name)-1):\n",
    "    for j in range(i+1, len(genre_name)):\n",
    "        A = np.array([model.wv[word] for word in attributes[i]])\n",
    "        B = np.array([model.wv[word] for word in attributes[j]])\n",
    "        matrix[i][j] = weat_score(X, Y, A, B)"
   ]
  },
  {
   "cell_type": "code",
   "execution_count": 21,
   "id": "d498ecb3",
   "metadata": {},
   "outputs": [
    {
     "name": "stdout",
     "output_type": "stream",
     "text": [
      "SF 가족 -0.7796058\n",
      "SF 공연 -0.23688132\n",
      "SF 공포(호러) -0.72151744\n",
      "SF 기타 0.14976354\n",
      "SF 다큐멘터리 0.44863635\n",
      "SF 드라마 -0.52346146\n",
      "SF 멜로로맨스 -0.76552093\n",
      "SF 뮤지컬 0.20566356\n",
      "SF 미스터리 -0.7126519\n",
      "SF 범죄 -0.26292536\n",
      "SF 사극 -0.61824995\n",
      "SF 서부극(웨스턴) -0.3029632\n",
      "SF 성인물(에로) -0.52899915\n",
      "SF 스릴러 -0.5691554\n",
      "SF 애니메이션 0.13279295\n",
      "SF 액션 -0.55795765\n",
      "SF 어드벤처 -0.779322\n",
      "SF 전쟁 0.35400355\n",
      "SF 코미디 -0.61425966\n",
      "SF 판타지 -0.38913736\n",
      "가족 공연 0.67395914\n",
      "가족 공포(호러) 0.1557474\n",
      "가족 기타 0.85925615\n",
      "가족 다큐멘터리 0.9237778\n",
      "가족 드라마 0.351736\n",
      "가족 멜로로맨스 -0.38142076\n",
      "가족 뮤지컬 0.82639474\n",
      "가족 미스터리 -0.04689422\n",
      "가족 범죄 0.46498653\n",
      "가족 사극 0.5214633\n",
      "가족 서부극(웨스턴) 0.7167461\n",
      "가족 성인물(에로) -0.04909581\n",
      "가족 스릴러 0.12425813\n",
      "가족 애니메이션 0.9611863\n",
      "가족 액션 0.40186745\n",
      "가족 어드벤처 0.43084118\n",
      "가족 전쟁 0.8686608\n",
      "가족 코미디 0.31339782\n",
      "가족 판타지 0.59350795\n",
      "공연 공포(호러) -0.33453923\n",
      "공연 기타 0.5944772\n",
      "공연 다큐멘터리 0.71154773\n",
      "공연 드라마 -0.3886836\n",
      "공연 멜로로맨스 -0.7146174\n",
      "공연 뮤지컬 0.7256132\n",
      "공연 미스터리 -0.428529\n",
      "공연 범죄 -0.01607355\n",
      "공연 사극 -0.2392186\n",
      "공연 서부극(웨스턴) -0.03431368\n",
      "공연 성인물(에로) -0.4892074\n",
      "공연 스릴러 -0.3126508\n",
      "공연 애니메이션 0.56264895\n",
      "공연 액션 -0.15781273\n",
      "공연 어드벤처 -0.37149125\n",
      "공연 전쟁 0.5697755\n",
      "공연 코미디 -0.3737258\n",
      "공연 판타지 -0.06638749\n",
      "공포(호러) 기타 0.6092998\n",
      "공포(호러) 다큐멘터리 0.74684215\n",
      "공포(호러) 드라마 0.12955165\n",
      "공포(호러) 멜로로맨스 -0.5602237\n",
      "공포(호러) 뮤지컬 0.587235\n",
      "공포(호러) 미스터리 -0.5176377\n",
      "공포(호러) 범죄 0.5921205\n",
      "공포(호러) 사극 0.29917073\n",
      "공포(호러) 서부극(웨스턴) 0.35770437\n",
      "공포(호러) 성인물(에로) -0.17370053\n",
      "공포(호러) 스릴러 -0.017057948\n",
      "공포(호러) 애니메이션 0.6094771\n",
      "공포(호러) 액션 0.42336947\n",
      "공포(호러) 어드벤처 0.14010823\n",
      "공포(호러) 전쟁 0.69699293\n",
      "공포(호러) 코미디 0.15151249\n",
      "공포(호러) 판타지 0.45115456\n",
      "기타 다큐멘터리 0.64444554\n",
      "기타 드라마 -0.92112267\n",
      "기타 멜로로맨스 -0.8988887\n",
      "기타 뮤지컬 0.23576063\n",
      "기타 미스터리 -0.6483005\n",
      "기타 범죄 -0.2857097\n",
      "기타 사극 -0.6103573\n",
      "기타 서부극(웨스턴) -0.4132988\n",
      "기타 성인물(에로) -0.7679302\n",
      "기타 스릴러 -0.5308004\n",
      "기타 애니메이션 -0.11164609\n",
      "기타 액션 -0.41584063\n",
      "기타 어드벤처 -0.8076234\n",
      "기타 전쟁 0.08730166\n",
      "기타 코미디 -0.7880791\n",
      "기타 판타지 -0.6751964\n",
      "다큐멘터리 드라마 -0.9418389\n",
      "다큐멘터리 멜로로맨스 -0.8957806\n",
      "다큐멘터리 뮤지컬 -0.48445317\n",
      "다큐멘터리 미스터리 -0.7580855\n",
      "다큐멘터리 범죄 -0.4495011\n",
      "다큐멘터리 사극 -0.7753929\n",
      "다큐멘터리 서부극(웨스턴) -0.58622265\n",
      "다큐멘터리 성인물(에로) -0.7914311\n",
      "다큐멘터리 스릴러 -0.645488\n",
      "다큐멘터리 애니메이션 -0.6459838\n",
      "다큐멘터리 액션 -0.5821798\n",
      "다큐멘터리 어드벤처 -0.97607875\n",
      "다큐멘터리 전쟁 -0.20008394\n",
      "다큐멘터리 코미디 -0.86555094\n",
      "다큐멘터리 판타지 -0.90718096\n",
      "드라마 멜로로맨스 -0.7799986\n",
      "드라마 뮤지컬 0.8025613\n",
      "드라마 미스터리 -0.30575472\n",
      "드라마 범죄 0.24560446\n",
      "드라마 사극 0.21986748\n",
      "드라마 서부극(웨스턴) 0.2748882\n",
      "드라마 성인물(에로) -0.37985596\n",
      "드라마 스릴러 -0.112573\n",
      "드라마 애니메이션 0.8619654\n",
      "드라마 액션 0.119647376\n",
      "드라마 어드벤처 0.0040698866\n",
      "드라마 전쟁 0.6141395\n",
      "드라마 코미디 -0.07156923\n",
      "드라마 판타지 0.57512987\n",
      "멜로로맨스 뮤지컬 0.83761775\n",
      "멜로로맨스 미스터리 0.42252928\n",
      "멜로로맨스 범죄 0.80023634\n",
      "멜로로맨스 사극 0.6506662\n",
      "멜로로맨스 서부극(웨스턴) 0.627055\n",
      "멜로로맨스 성인물(에로) 0.85306954\n",
      "멜로로맨스 스릴러 0.62015074\n",
      "멜로로맨스 애니메이션 0.8477348\n",
      "멜로로맨스 액션 0.6781108\n",
      "멜로로맨스 어드벤처 0.55299586\n",
      "멜로로맨스 전쟁 0.797908\n",
      "멜로로맨스 코미디 0.8044019\n",
      "멜로로맨스 판타지 0.7706103\n",
      "뮤지컬 미스터리 -0.6233787\n",
      "뮤지컬 범죄 -0.30972454\n",
      "뮤지컬 사극 -0.65239793\n",
      "뮤지컬 서부극(웨스턴) -0.4686204\n",
      "뮤지컬 성인물(에로) -0.7214028\n",
      "뮤지컬 스릴러 -0.5236499\n",
      "뮤지컬 애니메이션 -0.26097152\n",
      "뮤지컬 액션 -0.43121004\n",
      "뮤지컬 어드벤처 -0.765667\n",
      "뮤지컬 전쟁 0.017844139\n",
      "뮤지컬 코미디 -0.7138266\n",
      "뮤지컬 판타지 -0.6157015\n",
      "미스터리 범죄 0.9247177\n",
      "미스터리 사극 0.4037834\n",
      "미스터리 서부극(웨스턴) 0.44454044\n",
      "미스터리 성인물(에로) -0.011011414\n",
      "미스터리 스릴러 0.65178734\n",
      "미스터리 애니메이션 0.63516647\n",
      "미스터리 액션 0.65706646\n",
      "미스터리 어드벤처 0.2861457\n",
      "미스터리 전쟁 0.71760297\n",
      "미스터리 코미디 0.3727322\n",
      "미스터리 판타지 0.52152157\n",
      "범죄 사극 -0.11640885\n",
      "범죄 서부극(웨스턴) -0.0016238809\n",
      "범죄 성인물(에로) -0.45876852\n",
      "범죄 스릴러 -0.904307\n",
      "범죄 애니메이션 0.26741698\n",
      "범죄 액션 -0.41188323\n",
      "범죄 어드벤처 -0.2464054\n",
      "범죄 전쟁 0.4655435\n",
      "범죄 코미디 -0.32635322\n",
      "범죄 판타지 -0.03102239\n",
      "사극 서부극(웨스턴) 0.18725045\n",
      "사극 성인물(에로) -0.36740667\n",
      "사극 스릴러 -0.2568712\n",
      "사극 애니메이션 0.6074671\n",
      "사극 액션 -0.059093665\n",
      "사극 어드벤처 -0.29036337\n",
      "사극 전쟁 0.9042553\n",
      "사극 코미디 -0.27568093\n",
      "사극 판타지 0.115145065\n",
      "서부극(웨스턴) 성인물(에로) -0.3804241\n",
      "서부극(웨스턴) 스릴러 -0.33078203\n",
      "서부극(웨스턴) 애니메이션 0.44416478\n",
      "서부극(웨스턴) 액션 -0.17466137\n",
      "서부극(웨스턴) 어드벤처 -0.3393503\n",
      "서부극(웨스턴) 전쟁 0.8486373\n",
      "서부극(웨스턴) 코미디 -0.3115442\n",
      "서부극(웨스턴) 판타지 -0.03448714\n",
      "성인물(에로) 스릴러 0.1791752\n",
      "성인물(에로) 애니메이션 0.6812567\n",
      "성인물(에로) 액션 0.32527658\n",
      "성인물(에로) 어드벤처 0.24186003\n",
      "성인물(에로) 전쟁 0.616519\n",
      "성인물(에로) 코미디 0.3424952\n",
      "성인물(에로) 판타지 0.48679748\n",
      "스릴러 애니메이션 0.5172078\n",
      "스릴러 액션 0.44213542\n",
      "스릴러 어드벤처 0.10699903\n",
      "스릴러 전쟁 0.64388406\n",
      "스릴러 코미디 0.11887469\n",
      "스릴러 판타지 0.32560825\n",
      "애니메이션 액션 -0.41056687\n",
      "애니메이션 어드벤처 -0.9017675\n",
      "애니메이션 전쟁 0.12753503\n",
      "애니메이션 코미디 -0.75458187\n",
      "애니메이션 판타지 -0.6566732\n",
      "액션 어드벤처 -0.13620877\n",
      "액션 전쟁 0.6600158\n",
      "액션 코미디 -0.17952092\n",
      "액션 판타지 0.12555431\n",
      "어드벤처 전쟁 0.74928576\n",
      "어드벤처 코미디 -0.046319176\n",
      "어드벤처 판타지 0.6071228\n",
      "전쟁 코미디 -0.66776145\n",
      "전쟁 판타지 -0.4837477\n",
      "코미디 판타지 0.6113338\n"
     ]
    }
   ],
   "source": [
    "for i in range(len(genre_name)-1):\n",
    "    for j in range(i+1, len(genre_name)):\n",
    "        print(genre_name[i], genre_name[j],matrix[i][j])"
   ]
  },
  {
   "cell_type": "markdown",
   "id": "5a578c18",
   "metadata": {},
   "source": [
    "## 해석"
   ]
  },
  {
   "cell_type": "markdown",
   "id": "94825815",
   "metadata": {},
   "source": [
    "- 값이 클수록 연관성이 강하고, 작을 수록 연관성이 낮다.\n",
    "\n",
    "#### SF(공상 과학) 장르:\n",
    "---\n",
    "SF - `가족 (-0.7029941)`와 같은 값은 SF 장르가 가족 장르와 **부정적인 연관성** 을 가진다는 것을 의미\n",
    "\n",
    "즉, SF 영화는 가족 영화와 내재된 연관성이 낮다고 봄\n",
    "\n",
    "반대로, SF - `다큐멘터리 (0.48172992)` 같은 값은 SF와 다큐멘터리 장르 간의 연관성이 **비교적 높다는 것**을 의미\n",
    "\n",
    "#### 가족 장르:\n",
    "---\n",
    "가족 - `애니메이션 (0.9828525)`는 매우 높은 양수 값. 이는 가족 장르와 애니메이션 장르가 **매우 강한 연관성**을 가지고 있다는 것을 의미 가족 영화는 애니메이션 영화와 매우 밀접하게 연관되어 있다는 것\n",
    "\n",
    "반대로, 가족 - `멜로로맨스 (-0.35970694)`는 가족과 멜로로맨스 장르가 그다지 연관성이 없음\n",
    "\n",
    "#### 공포(호러) 장르:\n",
    "---\n",
    "공포(호러) - `다큐멘터리 (0.73992795)`는 공포와 다큐멘터리 장르가 **강한 연관성**.\n",
    "\n",
    "공포(호러) - `애니메이션 (0.63192683)`는 공포 영화와 애니메이션 영화 간에도 **비교적 높은 연관성**이 있음\n",
    "\n",
    "공포(호러) - `미스터리 (-0.5462546)`는 두 장르 간의 **연관성이 낮음**을 보여줍니다. 공포와 미스터리 장르는 예상보다 연관성이 적은 것으로 나타나며, 이는 장르적 특성 차이를 반영할 수 있습니다.\n",
    "\n",
    "\n",
    "#### 공연 장르:\n",
    "---\n",
    "공연 - `기타 (0.58169943)`와 같은 양수 값은 공연 장르가 기타 장르와 **높은 연관성**을 가지고 있음 (공연과 기타 장르는 공통된 주제나 분위기를 공유할 가능성)\n",
    "\n",
    "반면, 공연 - `멜로로맨스 (-0.7106934)`와 같이 음수 값이 큰 경우는 공연 장르와 멜로로맨스 장르가 상반된 특성을 지닌다는 것을 의미. 공연 장르는 멜로로맨스와의 **연관성이 낮다.**\n",
    "\n",
    "공연 - `다큐멘터리 (0.68249506)`는 공연과 다큐멘터리 장르 간의 **높은 연관성**을 나타냅니다. 이는 공연과 다큐멘터리 영화가 주제적으로 연결될 가능성이 높다는 것을 의미합니다.\n",
    "\n",
    "\n",
    "#### 기타 장르:\n",
    "---\n",
    "기타 - `다큐멘터리 (0.58322096)`는 기타 장르와 다큐멘터리 장르가 **강한 연관성.**\n",
    "\n",
    "기타 - `드라마 (-0.92244124)`와 같이 음수 값이 큰 경우는 기타 장르와 드라마 장르가 상반된 특성을 지닌다는 것을 의미합니다.\n",
    "\n",
    "기타 - `코미디 (-0.7952593)`처럼 음수 값이 큰 경우는 기타 장르와 코미디 장르 간의 **연관성이 낮음**을 나타냅니다.\n",
    "\n",
    "\n",
    "#### 다큐멘터리 장르:\n",
    "---\n",
    "\n",
    "다큐멘터리 - `드라마 (-0.94468135)`는 다큐멘터리와 드라마가 연관성이 **매우 낮음**을 나타냅니다. 이는 다큐멘터리의 사실적인 특성과 드라마의 감정적인 서사가 상반된다는 점을 반영.\n",
    "\t\n",
    "다큐멘터리 - `멜로로맨스 (-0.898256)` 역시 다큐멘터리와 멜로로맨스가 **연관성이 낮다**. 멜로로맨스 장르와 다큐멘터리의 주제나 서사가 다르다는 것을 나타냄\n",
    "\n",
    "\n",
    "#### 드라마 장르:\n",
    "---\n",
    "\n",
    "드라마 - `멜로로맨스 (-0.77241325)`는 드라마와 멜로로맨스가 상반된 주제를 지닌다고 해석. 이 점수는 두 장르가 큰 차이를 가진다는 것.\n",
    "\n",
    "드라마 - `뮤지컬 (0.75381386)`은 드라마와 뮤지컬 장르가 **서로 강한 연관성**을 가지고 있음. 드라마와 뮤지컬은 감정적 서사와 예술적 표현에서 유사한 특성을 가질 수 있다.\n",
    "\n",
    "드라마 - `애니메이션 (0.8812431)`는 드라마와 애니메이션 간의 **매우 높은 연관성**을 나타냅니다. 이는 두 장르가 감정적 표현이나 스토리텔링에서 유사한 성격을 가지고 있을 수 있음\n",
    "\n",
    "\n",
    "#### 멜로로맨스 장르:\n",
    "---\n",
    "\n",
    "멜로로맨스 - `성인물(에로) (0.8373372)`는 이 두 장르가 매우 **높은 연관성**을 가지는 것으로 보이며, 이는 두 장르 모두 감정적이고 성적인 주제를 다루기 때문일 수 있습니다.\n",
    "\n",
    "멜로로맨스 - `애니메이션 (0.85960263)`은 멜로로맨스와 애니메이션 장르 간의 **높은 연관성**을 보여줍니다. 이는 애니메이션에서도 로맨스적인 요소가 자주 등장할 수 있기 때문일 수 있습니다.\n",
    "\n",
    "멜로로맨스 - `미스터리 (0.35753167)`는 두 장르가 **다소 연관성**이 있음을 나타냅니다\n",
    "미스터리 장르에서도 로맨스적인 서브 플롯이 포함될 수 있기 때문입니다.\n",
    "\n",
    "\n",
    "#### 뮤지컬 장르:\n",
    "---\n",
    "\n",
    "뮤지컬 - `애니메이션 (-0.19554007)`는 약한 음수 값을 나타냄, 두 장르 간의 **상관성이 크지 않음**. \n",
    "\n",
    "뮤지컬 - `코미디 (-0.67375344)`와 같은 경우, 두 장르 간의 상관성이 **매우 낮다**. 이는 뮤지컬이 예술적 표현과 노래를 중심으로 하는 반면, 코미디는 유머와 가벼운 서사를 강조하는 장르적 차이 때문.\n",
    "\n",
    "뮤지컬 - `미스터리 (-0.61853033)`도 유사하게 연관성이 낮음. 미스터리 장르는 서스펜스와 복잡한 스토리 구조를 가지는 반면, 뮤지컬은 감정 표현과 음악적 요소에 집중되어 있어, 이 두 장르는 잘 섞이지 않을 수 있다.\n",
    "\n",
    "\n",
    "#### 미스터리 장르:\n",
    "---\n",
    "\n",
    "미스터리 - `범죄 (1.0045581)`는 매우 강한 양수 값으로, 두 장르 간의 **밀접한 연관성**. 이는 범죄 스토리가 종종 미스터리 장르 내에서 중요한 요소로 작용하기 때문.\n",
    "\n",
    "미스터리 - `스릴러 (0.71143395)` 역시 **강한 연관성**. 이 두 장르는 공통적으로 긴장감과 예측할 수 없는 요소가 중심이 되는 서사를 가지므로, 높은 연관성을 나타냄.\n",
    "\n",
    "미스터리 - `액션 (0.7250364)`는 비교적 **강한 연관성**을 나타냅니다. 미스터리 요소가 액션 영화의 서브 플롯으로 자주 포함\n",
    "\n",
    "\n",
    "#### 범죄 장르:\n",
    "---\n",
    "\n",
    "범죄 - `스릴러 (-0.9539968)`는 음수 값으로 두 장르 간의 **연관성이 낮음**. 이는 스릴러가 긴장감을 중심으로 한 장르인 반면, 범죄는 종종 법률적이거나 사회적인 요소를 다루기 때문에, 두 장르가 완전히 상반된 방식으로 표현될 수 있다는 점에서 기인\n",
    "\n",
    "범죄 - `애니메이션 (0.26969752)`는 **약한 양수 값**을 나타내며, 연관성이 다소 있지만 강하지는 않다는 것을 의미. 애니메이션 내에서도 범죄 요소가 포함될 수 있지만, 이는 드문 편.\n",
    "\n",
    "\n",
    "#### 사극 장르:\n",
    "---\n",
    "사극 - `전쟁 (0.8258398)`는 매우 **높은 연관성**을 보여줍니다. 이는 사극이 역사적 전쟁을 다룰 때가 많기 때문에, 두 장르 간의 연관성이 클 수밖에 없다.\n",
    "\n",
    "사극 - `애니메이션 (0.7122208)`는 예상외로 **높은 연관성**을 보입니다. 이는 사극적인 요소가 애니메이션에서도 종종 중요한 배경 설정으로 등장할 수 있음을 시사\n",
    "\n",
    "사극 - `코미디 (-0.1774469)`는 두 장르 간의 **낮은 연관성**. 사극은 보통 진지하고 역사적인 내용을 다루는 반면, 코미디는 가벼운 서사를 주로 다루기 때문에 두 장르 간의 상관성이 낮은 것.\n",
    "\n",
    "\n",
    "#### 서부극(웨스턴) 장르의 연관성:\n",
    "---\n",
    "서부극 - `전쟁 (0.7832851)`는 두 장르 간의 **높은 연관성**. 서부극과 전쟁은 둘 다 폭력적인 서사와 전투 장면을 포함하는 경우가 많으며, 이러한 점에서 연관성이 큼.\n",
    "\n",
    "서부극 - `애니메이션 (0.4977311)`도 **비교적 강한 연관성**을 보이는데, 이는 서부극적인 요소가 애니메이션 장르에도 자주 사용될 수 있음을 시사.\n",
    "\n",
    "\n",
    "#### 성인물(에로) 장르:\n",
    "---\n",
    "성인물(에로) - `애니메이션 (0.69420666)`는 **비교적 높은 양수 값**을 나타내며, 두 장르 간의 연관성이 강함. 이는 성인물이 애니메이션에서도 표현될 수 있는 경우가 있으며, 성인물과 애니메이션의 일부 하위 장르가 공통적으로 나타날 수 있음을 의미\n",
    "\n",
    "성인물(에로) - `전쟁 (0.5534855)` **역시 강한 연관성**. 성인물 내에서 전쟁과 관련된 서사적 요소가 포함될 수 있음을 시사\n",
    "\n",
    "성인물(에로) - `액션 (0.30454057)`과 `코미디 (0.33478957)`는 **중간 정도의 양수 값**을 보여주며, 두 장르가 결합된 작품이 존재할 수 있음을 암시.\n",
    "\n",
    "\n",
    "#### 스릴러 장르:\n",
    "\n",
    "스릴러 - `애니메이션 (0.5277573)`와 스릴러 - `전쟁 (0.5846573)`는 **높은 연관성**. 스릴러와 애니메이션이 결합된 서사나, 스릴러와 전쟁 요소가 함께 있는 작품이 상당수 존재할 수 있음.\n",
    "\n",
    "스릴러 - `코미디 (0.1234494)`는 약한 연관성을 보이는데, 이는 스릴러가 긴장감과 서스펜스를 주로 다루는 반면, 코미디는 가벼운 분위기를 다루는 장르적 차이 때문.\n",
    "\n",
    "스릴러 - `판타지 (0.29556844)`는 중간 정도의 연관성을 나타내며, 판타지적인 요소가 스릴러 작품에서 나타날 수 있음을 의미.\n",
    "\n",
    "\n",
    "#### 애니메이션 장르:\n",
    "\n",
    "애니메이션 - `액션 (-0.4239758)`와 애니메이션 - `어드벤처 (-0.93217003)`는 **음수 값**을 보이며, 이 두 장르 간의 **상관성이 낮음**. 애니메이션이 보다 서사적이거나 환상적인 요소를 담고 있기 때문에, 액션이나 어드벤처와는 스타일적으로 다를 수 있다.\n",
    "\n",
    "애니메이션 - `판타지 (-0.7198925)` 역시 음수 값을 보이며, 이 두 장르 간의 **연관성이 낮음**을 나타냄. 애니메이션이 판타지적 요소를 다루긴 하지만, 판타지가 전는 약한 음수 값을 보이며, 두 장르 간의 연관성이 낮음. 하지만 이것도 판타지 애니메이션 소재도 많기에 더 조사\n",
    "\n",
    "이는 액션 영화가 서사적 요소보다는 폭력적이거나 전투적인 요소에 더 중점을 두는 반면, 어드벤처는 더 탐험적이고 서사 중심의 이야기를 다루기 때문.\n",
    "\n",
    "액션 - `전쟁 (0.5774789)`는 **높은 양수 값**을 보이며, 두 장르 간의 **상관성이 높음**을 나타냄. 액션 영화가 전쟁과 폭력적인 요소를 자주 다루기 때문에 두 장르가 자주 결합.\n",
    "\n",
    "액션 - `판타지 (0.095638394)`는 **매우 낮은 양수 값**을 보이며, 판타지 요소와 액션 요소가 함께 나타나는 경우가 많지는 않다는 것을 보여줌\n",
    "\n",
    "\n",
    "#### 전쟁 장르:\n",
    "\n",
    "전쟁 - `어드벤처 (0.6939699)`는 **높은 양수 값**을 보이며, 전쟁 영화 내에서 모험적인 서사가 포함\n",
    "\n",
    "전쟁 - `코미디 (-0.5842947)`와 전쟁 - `판타지 (-0.4270368)`는 음수 값을 보이며, 이 두 장르 간의 **연관성이 낮음**. 전쟁은 보통 무거운 서사를 중심으로 하며, 가벼운 서사를 다루는 코미디나 환상적인 요소를 다루는 판타지와는 결합되는 경우가 적다.\n",
    "\n",
    "#### 코미디 장르:\n",
    "\n",
    "코미디 - `판타지 (0.53189)`는 양수 값을 보이며, 두 장르 간의 상관성이 **비교적 높음**을 보여줌. 코미디 내에서 판타지적 요소가 포함된 작품들이 많을 수 있다."
   ]
  },
  {
   "cell_type": "code",
   "execution_count": 22,
   "id": "a1f7915a",
   "metadata": {},
   "outputs": [
    {
     "data": {
      "text/plain": [
       "<AxesSubplot:>"
      ]
     },
     "execution_count": 22,
     "metadata": {},
     "output_type": "execute_result"
    },
    {
     "data": {
      "image/png": "[encoded data removed]",
      "text/plain": [
       "<Figure size 432x288 with 2 Axes>"
      ]
     },
     "metadata": {},
     "output_type": "display_data"
    }
   ],
   "source": [
    "import numpy as np; \n",
    "import seaborn as sns;\n",
    "import matplotlib as plt\n",
    "\n",
    "np.random.seed(0)\n",
    "\n",
    "# 한글 지원 폰트\n",
    "sns.set(font='NanumGothic')\n",
    "\n",
    "# 마이너스 부호 \n",
    "\n",
    "plt.rcParams['axes.unicode_minus'] = False\n",
    "\n",
    "ax = sns.heatmap(matrix, xticklabels=genre_name, yticklabels=genre_name, annot=True,  cmap='RdYlGn_r')\n",
    "ax"
   ]
  },
  {
   "cell_type": "markdown",
   "id": "47c4351f",
   "metadata": {},
   "source": [
    "### 아쉬운 점\n",
    "장르에 연관되는 단어 중 의미없는 단어를 제외하고 싶었는데, 실험할 때 그것이 잘 안됐었다.\n",
    "어느 부분에서부터 해결해야 하는지 생각을 해보고 적용해보고 넘어가야겠다는 생각이 들었다."
   ]
  },
  {
   "cell_type": "code",
   "execution_count": null,
   "id": "80a6f2fb",
   "metadata": {},
   "outputs": [],
   "source": []
  },
  {
   "cell_type": "markdown",
   "id": "a3ae9c48",
   "metadata": {},
   "source": [
    "## 회고\n"
   ]
  },
  {
   "cell_type": "markdown",
   "id": "d3279a44",
   "metadata": {},
   "source": [
    "이렇게 영화 시놉시스 데이터셋에서 영화 구분, 장르에 따른 편향성을 측정해보고 그것을 WEAT 스코어를 통해 알아보는 시간이 좋았다.\n",
    "\n",
    "특히, 인공지능이 잘못된 학습을 충분히 할 수 있겠구나 라는 생각이 들며, 이를 뒷받침하는 부분을 오늘 학습한 경험으로\n",
    "충분히 나눠볼 수 있고, 어느정도 해결해 나가는 방안을 고안할 수 있겠다는 생각이 들었다.\n",
    "\n",
    "서비스를 개발하고자 하는 나에게는 이와 비슷한 과제 또는 문제들을 해결해나가야 하는 능력을 키워야겠다는 다짐이 들었다."
   ]
  },
  {
   "cell_type": "code",
   "execution_count": null,
   "id": "25948ec5",
   "metadata": {},
   "outputs": [],
   "source": []
  },
  {
   "cell_type": "code",
   "execution_count": null,
   "id": "c6847973",
   "metadata": {},
   "outputs": [],
   "source": []
  },
  {
   "cell_type": "code",
   "execution_count": null,
   "id": "59dfcaea",
   "metadata": {},
   "outputs": [],
   "source": []
  },
  {
   "cell_type": "code",
   "execution_count": null,
   "id": "7b83fd24",
   "metadata": {},
   "outputs": [],
   "source": []
  }
 ],
 "metadata": {
  "kernelspec": {
   "display_name": "Python 3 (ipykernel)",
   "language": "python",
   "name": "python3"
  },
  "language_info": {
   "codemirror_mode": {
    "name": "ipython",
    "version": 3
   },
   "file_extension": ".py",
   "mimetype": "text/x-python",
   "name": "python",
   "nbconvert_exporter": "python",
   "pygments_lexer": "ipython3",
   "version": "3.9.7"
  }
 },
 "nbformat": 4,
 "nbformat_minor": 5
}
