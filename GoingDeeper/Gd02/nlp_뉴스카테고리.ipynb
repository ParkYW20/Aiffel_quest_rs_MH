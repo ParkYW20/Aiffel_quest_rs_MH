{
 "cells": [
  {
   "cell_type": "markdown",
   "id": "5a1374dc",
   "metadata": {},
   "source": [
    "# 뉴스 카테고리 프로젝트\n",
    "## Vocabulary Size를 변경하고 시도해보기\n",
    "- 기존 num_words=10000\n",
    "- 비교 num_words=None  // 모든 단어 사용\n",
    "- 비교 num_words=5000  // 빈도수 상위 5000개 단어 사용\n",
    "---\n",
    "\n",
    "### 1. 모든 단어 사용\n",
    "### 2. 빈도수 상위 5,000개 단어 사용\n",
    "### 3. 직접 단어 개수를 설정해서 사용\n",
    "### 4. 딥러닝 모델과 비교해보기"
   ]
  },
  {
   "cell_type": "markdown",
   "id": "b215e01c",
   "metadata": {},
   "source": [
    "### 실험 사항: 모델 선정하기\n",
    "- 프로젝트를 진행하기 전에. 뉴스 카테고리를 다중분류를 잘 할 수 있는 모델을 미리 선정해봤다.\n",
    "- 그 이유는 모델을 모두 돌리기에는 학습 시간이 너무 오래걸리기에 적합한 모델을 조사하고 진행을 해봤다.\n",
    "\n",
    "#### 로이터 뉴스 데이터셋 파헤치기\n",
    "모델을 잘 선정하려면, 해당 데이터를 잘 파악해야 좋은 접근이라고 배웠다.\n",
    "\n",
    "`Reuters` 뉴스 데이터셋은 자연어처리와 텍스트 분류 작업에서 자주 사용되는 대표적 다중 분류 데이터셋이다.\n",
    "\n",
    "카테고리는 경제, 무역, 과학, 스포츠 등 다양하며 주요 주제로 무역, 주식 시장, 금융, 스포츠, 정치 등 다룬다.\n",
    "- 카테고리 수: 46~90개 사이 카테고리\n",
    "- 라벨 불균형: 특정 카테고리가 더 많이 포함되있어 데이터 불균형 문제 존재 가능성이 있다.\n",
    "- 이미 토큰화된 인덱스 리스트로 제공(이미 사전에서 특정 단어 인덱스 변환된 상태)\n",
    "\n",
    "#### 10000개 였을 때 가장 높은 모델,방식(70~80%)\n",
    "- 1등) 로지스틱 회귀 모델의 정확도: 81%\n",
    "- 2등) 보팅 방법의 정확도: 79%\n",
    "- 3등) 선형 서포트 벡터 머신 모델의 정확도: 79%\n",
    "- 4등) Complement Naive Bayes Classifier(CNB) 모델의 정확도: 77%\n",
    "- 5등) 그레디언트 부스팅 트리 모델의 정확도: 76.6%\n",
    "\n",
    "#### 다중 분류 데이터에 특화된 모델\n",
    "- 서포트 벡터 머신(SVM): 고차원 데이터 적합, 텍스트 데이터 분류에 높은 성능, 선형/비선형 관계 처리 수월\n",
    "- 랜덤 포레스트(RF): 앙상블 모델로 일반화 성능에 좋음, 다중분류 안정적 동작\n",
    "- 그래디언트 부스팅 트리(GBT): 복잡한 데이터에서 성능 좋음, 튜닝 결과에 따른 높은 성능, 학습시간 오래걸림\n",
    "- 보팅(Voting): 여러 모델의 장점 결합, `SVM, 로지스틱 회귀, 랜덤 포레스트` 결합 소프트 보팅 추천 \n"
   ]
  },
  {
   "cell_type": "markdown",
   "id": "2919b703",
   "metadata": {},
   "source": [
    "라이브러리 임포트"
   ]
  },
  {
   "cell_type": "code",
   "execution_count": 1,
   "id": "f06b0703",
   "metadata": {},
   "outputs": [
    {
     "name": "stdout",
     "output_type": "stream",
     "text": [
      "2.6.0\n",
      "3.4.3\n",
      "0.11.2\n",
      "1.21.4\n",
      "1.3.3\n",
      "1.0\n"
     ]
    }
   ],
   "source": [
    "import tensorflow\n",
    "import matplotlib\n",
    "import seaborn \n",
    "import numpy \n",
    "import pandas\n",
    "import sklearn\n",
    "\n",
    "print(tensorflow.__version__)\n",
    "print(matplotlib.__version__)\n",
    "print(seaborn.__version__)\n",
    "print(numpy.__version__)\n",
    "print(pandas.__version__)\n",
    "print(sklearn.__version__)"
   ]
  },
  {
   "cell_type": "code",
   "execution_count": 2,
   "id": "4c352e62",
   "metadata": {},
   "outputs": [],
   "source": [
    "from tensorflow.keras.datasets import reuters\n",
    "import matplotlib.pyplot as plt\n",
    "import seaborn as sns\n",
    "import numpy as np\n",
    "import pandas as pd"
   ]
  },
  {
   "cell_type": "markdown",
   "id": "f8a503f0",
   "metadata": {},
   "source": [
    "## 1. 모든 단어 사용 (None)"
   ]
  },
  {
   "cell_type": "code",
   "execution_count": 3,
   "id": "914a476e",
   "metadata": {},
   "outputs": [],
   "source": [
    "(x_train, y_train), (x_test, y_test) = reuters.load_data(num_words=None, test_split=0.2)"
   ]
  },
  {
   "cell_type": "code",
   "execution_count": 4,
   "id": "e3409c3c",
   "metadata": {},
   "outputs": [
    {
     "name": "stdout",
     "output_type": "stream",
     "text": [
      "훈련 샘플의 수: 8982\n",
      "테스트 샘플의 수: 2246\n"
     ]
    }
   ],
   "source": [
    "# 데이터 구성 출력\n",
    "print('훈련 샘플의 수: {}'.format(len(x_train)))\n",
    "print('테스트 샘플의 수: {}'.format(len(x_test)))"
   ]
  },
  {
   "cell_type": "code",
   "execution_count": 5,
   "id": "27ea9fa7",
   "metadata": {},
   "outputs": [
    {
     "name": "stdout",
     "output_type": "stream",
     "text": [
      "[1, 27595, 28842, 8, 43, 10, 447, 5, 25, 207, 270, 5, 3095, 111, 16, 369, 186, 90, 67, 7, 89, 5, 19, 102, 6, 19, 124, 15, 90, 67, 84, 22, 482, 26, 7, 48, 4, 49, 8, 864, 39, 209, 154, 6, 151, 6, 83, 11, 15, 22, 155, 11, 15, 7, 48, 9, 4579, 1005, 504, 6, 258, 6, 272, 11, 15, 22, 134, 44, 11, 15, 16, 8, 197, 1245, 90, 67, 52, 29, 209, 30, 32, 132, 6, 109, 15, 17, 12]\n",
      "[1, 4, 1378, 2025, 9, 697, 4622, 111, 8, 25, 109, 29, 3650, 11, 150, 244, 364, 33, 30, 30, 1398, 333, 6, 18292, 159, 9, 1084, 363, 13, 19231, 71, 9, 16273, 71, 117, 4, 225, 78, 206, 10, 9, 1214, 8, 4, 270, 5, 16273, 7, 748, 48, 9, 19231, 7, 207, 1451, 966, 1864, 793, 97, 133, 336, 7, 4, 493, 98, 273, 104, 284, 25, 39, 338, 22, 905, 220, 3465, 644, 59, 20, 6, 119, 61, 11, 15, 58, 579, 26, 10, 67, 7, 4, 738, 98, 43, 88, 333, 722, 12, 20, 6, 19, 746, 35, 15, 10, 9, 1214, 855, 129, 783, 21, 4, 2280, 244, 364, 51, 16, 299, 452, 16, 515, 4, 99, 29, 5, 4, 364, 281, 48, 10, 9, 1214, 23, 644, 47, 20, 324, 27, 56, 23406, 28185, 5, 192, 510, 17, 12]\n"
     ]
    }
   ],
   "source": [
    "print(x_train[0])\n",
    "print(x_test[0])"
   ]
  },
  {
   "cell_type": "code",
   "execution_count": 6,
   "id": "9e4384b0",
   "metadata": {},
   "outputs": [
    {
     "name": "stdout",
     "output_type": "stream",
     "text": [
      "3\n",
      "3\n"
     ]
    }
   ],
   "source": [
    "print(y_train[0])\n",
    "print(y_test[0])"
   ]
  },
  {
   "cell_type": "code",
   "execution_count": 7,
   "id": "f3af64dc",
   "metadata": {},
   "outputs": [
    {
     "name": "stdout",
     "output_type": "stream",
     "text": [
      "클래스의 수 : 46\n"
     ]
    }
   ],
   "source": [
    "num_classes = max(y_train) + 1\n",
    "print('클래스의 수 : {}'.format(num_classes))"
   ]
  },
  {
   "cell_type": "markdown",
   "id": "e1a77118",
   "metadata": {},
   "source": [
    "##### 데이터 분포 확인"
   ]
  },
  {
   "cell_type": "code",
   "execution_count": 8,
   "id": "3866823e",
   "metadata": {},
   "outputs": [
    {
     "name": "stdout",
     "output_type": "stream",
     "text": [
      "훈련용 뉴스의 최대 길이 :2376\n",
      "훈련용 뉴스의 평균 길이 :145.5398574927633\n"
     ]
    },
    {
     "data": {
      "image/png": "[encoded data removed]",
      "text/plain": [
       "<Figure size 432x288 with 1 Axes>"
      ]
     },
     "metadata": {
      "needs_background": "light"
     },
     "output_type": "display_data"
    }
   ],
   "source": [
    "# 데이터 분포 확인\n",
    "print('훈련용 뉴스의 최대 길이 :{}'.format(max(len(l) for l in x_train)))\n",
    "print('훈련용 뉴스의 평균 길이 :{}'.format(sum(map(len, x_train))/len(x_train)))\n",
    "\n",
    "plt.hist([len(s) for s in x_train], bins=50)\n",
    "plt.xlabel('length of samples')\n",
    "plt.ylabel('number of samples')\n",
    "plt.show()"
   ]
  },
  {
   "cell_type": "markdown",
   "id": "37fd3887",
   "metadata": {},
   "source": [
    "- 길이가 가장 긴 뉴스 길이: 2,376.\n",
    "- 평균 길이: 145\n",
    "- 500 ~ 1,000 사이 길이도 있지만 대부분 0~300 예상."
   ]
  },
  {
   "cell_type": "code",
   "execution_count": 9,
   "id": "51035d30",
   "metadata": {},
   "outputs": [
    {
     "data": {
      "image/png": "[encoded data removed]",
      "text/plain": [
       "<Figure size 792x360 with 1 Axes>"
      ]
     },
     "metadata": {
      "needs_background": "light"
     },
     "output_type": "display_data"
    }
   ],
   "source": [
    "# 클래스 분포 확인\n",
    "fig, axe = plt.subplots(ncols=1)\n",
    "fig.set_size_inches(11,5)\n",
    "sns.countplot(x=y_train)\n",
    "plt.show()"
   ]
  },
  {
   "cell_type": "code",
   "execution_count": 10,
   "id": "ed19570d",
   "metadata": {},
   "outputs": [
    {
     "name": "stdout",
     "output_type": "stream",
     "text": [
      "각 클래스 빈도수:\n",
      "[[   0    1    2    3    4    5    6    7    8    9   10   11   12   13\n",
      "    14   15   16   17   18   19   20   21   22   23   24   25   26   27\n",
      "    28   29   30   31   32   33   34   35   36   37   38   39   40   41\n",
      "    42   43   44   45]\n",
      " [  55  432   74 3159 1949   17   48   16  139  101  124  390   49  172\n",
      "    26   20  444   39   66  549  269  100   15   41   62   92   24   15\n",
      "    48   19   45   39   32   11   50   10   49   19   19   24   36   30\n",
      "    13   21   12   18]]\n"
     ]
    }
   ],
   "source": [
    "# 수치적으로 정확한 출력\n",
    "unique_elements, counts_elements = np.unique(y_train, return_counts=True)\n",
    "print(\"각 클래스 빈도수:\")\n",
    "print(np.asarray((unique_elements, counts_elements)))"
   ]
  },
  {
   "cell_type": "markdown",
   "id": "c0231b30",
   "metadata": {},
   "source": [
    "##### 데이터 복원하기\n",
    "\n",
    "원본 뉴스 데이터로 복원\n",
    "- 정수 -> 텍스트 ('단어'-> key값, '정수'-> value) 딕셔너리 ㅣ제공"
   ]
  },
  {
   "cell_type": "code",
   "execution_count": 11,
   "id": "2b74b8ed",
   "metadata": {},
   "outputs": [],
   "source": [
    "# 데이터의 단어장(word_index)\n",
    "word_index = reuters.get_word_index(path=\"reuters_word_index.json\")"
   ]
  },
  {
   "cell_type": "code",
   "execution_count": 12,
   "id": "c1ca8a19",
   "metadata": {},
   "outputs": [
    {
     "name": "stdout",
     "output_type": "stream",
     "text": [
      "the\n",
      "it\n"
     ]
    }
   ],
   "source": [
    "index_to_word = { index+3 : word for word, index in word_index.items() }\n",
    "\n",
    "print(index_to_word[4])  # 1+3\n",
    "print(index_to_word[16])  # 13+3"
   ]
  },
  {
   "cell_type": "code",
   "execution_count": 13,
   "id": "01419ad0",
   "metadata": {},
   "outputs": [
    {
     "name": "stdout",
     "output_type": "stream",
     "text": [
      "<sos> mcgrath rentcorp said as a result of its december acquisition of space co it expects earnings per share in 1987 of 1 15 to 1 30 dlrs per share up from 70 cts in 1986 the company said pretax net should rise to nine to 10 mln dlrs from six mln dlrs in 1986 and rental operation revenues to 19 to 22 mln dlrs from 12 5 mln dlrs it said cash flow per share this year should be 2 50 to three dlrs reuter 3\n"
     ]
    }
   ],
   "source": [
    "# index_to_word에 숫자 0은 <pad>, 숫자 1은 <sos>, 숫자 2는 <unk>를 넣어줍니다.\n",
    "for index, token in enumerate((\"<pad>\", \"<sos>\", \"<unk>\")):\n",
    "  index_to_word[index]=token\n",
    "\n",
    "print(' '.join([index_to_word[index] for index in x_train[0]]))"
   ]
  },
  {
   "cell_type": "markdown",
   "id": "d734a315",
   "metadata": {},
   "source": [
    "##### OOV 문제와 UNK 토큰\n",
    "- 기계가 미처 배우지 못한 모르는 단어: OOV(Out Of Vocabulary), UNK(unknown) -> `<UNK>`"
   ]
  },
  {
   "cell_type": "code",
   "execution_count": 14,
   "id": "1ea2bd11",
   "metadata": {},
   "outputs": [
    {
     "name": "stdout",
     "output_type": "stream",
     "text": [
      "8982\n"
     ]
    }
   ],
   "source": [
    "# 전체 훈련용 뉴스데이터->텍스트 데이터 변환\n",
    "decoded = []\n",
    "for i in range(len(x_train)):\n",
    "    t = ' '.join([index_to_word[index] for index in x_train[i]])\n",
    "    decoded.append(t)\n",
    "\n",
    "x_train = decoded\n",
    "print(len(x_train))"
   ]
  },
  {
   "cell_type": "code",
   "execution_count": 15,
   "id": "c26c9f6c",
   "metadata": {},
   "outputs": [
    {
     "name": "stdout",
     "output_type": "stream",
     "text": [
      "2246\n"
     ]
    }
   ],
   "source": [
    "# 전체 테스트용 뉴스데이터->텍스트 데이터 변환\n",
    "decoded_test = []\n",
    "for i in range(len(x_test)):\n",
    "    t = ' '.join([index_to_word[index] for index in x_test[i]])\n",
    "    decoded_test.append(t)\n",
    "\n",
    "\n",
    "x_test = decoded_test\n",
    "print(len(x_test))"
   ]
  },
  {
   "cell_type": "code",
   "execution_count": 16,
   "id": "3987864d",
   "metadata": {},
   "outputs": [
    {
     "data": {
      "text/plain": [
       "['<sos> the great atlantic and pacific tea co said its three year 345 mln dlr capital program will be be substantially increased to accommodate growth and expansion plans for waldbaum inc and shopwell inc over the next two years a and p said the acquisition of shopwell in august 1986 and waldbaum in december helped us achieve better than expected results in the fourth quarter ended february 28 its net income from continuing operations jumped 52 6 pct to 20 7 mln dlrs or 55 cts a share in the latest quarter as sales increased 48 3 pct to 1 58 billion dlrs a and p gave no details on the expanded capital program but it did say it completed the first year of the program during 1986 a and p is 52 4 pct owned by lt tengelmann warenhandelsgesellschaft of west germany reuter 3',\n",
       " \"<sos> philippine sugar production in the 1987 88 crop year ending august has been set at 1 6 mln tonnes up from a provisional 1 3 mln tonnes this year sugar regulatory administration sra chairman arsenio yulo said yulo told reuters a survey during the current milling season which ends next month showed the 1986 87 estimate would almost certainly be met he said at least 1 2 mln tonnes of the 1987 88 crop would be earmarked for domestic consumption yulo said about 130 000 tonnes would be set aside for the u s sugar quota 150 000 tonnes for strategic reserves and 50 000 tonnes would be sold on the world market he said if the government approved a long standing sra recommendation to manufacture ethanol the project would take up another 150 000 tonnes slightly raising the target the government for its own reasons has been delaying approval of the project but we expect it to come through by july yulo said ethanol could make up five pct of gasoline cutting the oil import bill by about 300 mln pesos yulo said three major philippine distilleries were ready to start manufacturing ethanol if the project was approved the ethanol project would result in employment for about 100 000 people sharply reducing those thrown out of work by depressed world sugar prices and a moribund domestic industry production quotas set for the first time in 1987 88 had been submitted to president corazon aquino i think the president would rather wait till the new congress convenes after the may elections he said but there is really no need for such quotas we are right now producing just slightly over our own consumption level the producers have never enjoyed such high prices yulo said adding sugar was currently selling locally for 320 pesos per picul up from 190 pesos last august yulo said prices were driven up because of speculation following the sra's bid to control production we are no longer concerned so much with the world market he said adding producers in the negros region had learned from their mistakes and diversified into corn and prawn farming and cloth production he said diversification into products other than ethanol was also possible within the sugar industry the brazilians long ago learnt their lessons yulo said they have 300 sugar mills compared with our 41 but they relocated many of them and diversified production we want to call this a 'sugarcane industry' instead of the sugar industry he said sugarcane could be fed to pigs and livestock used for thatching roofs or used in room panelling when you cut sugarcane you don't even have to produce sugar he said yulo said the philippines was lobbying for a renewal of the international sugar agreement which expired in 1984 as a major sugar producer we are urging them to write a new agreement which would revive world prices yulo said if there is no agreement world prices will always be depressed particularly because the european community is subsidising its producers and dumping sugar on the markets he said current world prices holding steady at about 7 60 cents per pound were uneconomical for the philippines where production costs ranged from 12 to 14 cents a pound if the price holds steady for a while at 7 60 cents i expect the level to rise to about 11 cents a pound by the end of this year he said yulo said economists forecast a bullish sugar market by 1990 with world consumption outstripping production he said sugar markets were holding up despite encroachments from artificial sweeteners and high fructose corn syrup but we are not happy with the reagan administration he said since 1935 we have been regular suppliers of sugar to the u s in 1982 when they restored the quota system they cut ours in half without any justification manila was keenly watching washington's moves to cut domestic support prices to 12 cents a pound from 18 cents the u s agriculture department last december slashed its 12 month 1987 sugar import quota from the philippines to 143 780 short tons from 231 660 short tons in 1986 yulo said despite next year's increased production target some philippine mills were expected to shut down at least four of the 41 mills were not working during the 1986 87 season he said we expect two or three more to follow suit during the next season reuter 3\",\n",
       " \"<sos> the agriculture department's widening of louisiana gulf differentials will affect county posted prices for number two yellow corn in ten states a usda official said all counties in iowa will be affected as will counties which use the gulf to price corn in illinois indiana tennessee kentucky missouri mississippi arkansas alabama and louisiana said ron burgess deputy director of commodity operations division for the usda usda last night notified the grain industry that effective immediately all gulf differentials used to price interior corn would be widened on a sliding scale basis of four to eight cts depending on what the differential is usda's action was taken to lower excessively high posted county prices for corn caused by high gulf prices we've been following this louisiana gulf situation for a month and we don't think it's going to get back in line in any nearby time burgess said burgess said usda will probably narrow back the gulf differentials when and if gulf prices recede if we're off the mark now because we're too high wouldn't we be as much off the mark if we're too low he said while forecasting more adjustments if gulf prices fall burgess said no other changes in usda's price system are being planned right now we don't tinker we don't make changes lightly and we don't make changes often he said reuter 3\",\n",
       " '<sos> graham mccormick oil and gas partnership said it completed the sale of interests in two major oil and gas fields to lt energy assets international corp for 21 mln dlrs the company said it sold about one half of its 50 pct interest in the oak hill and north rucias fields its two largest producing properties it said it used about 20 mln dlrs of the proceeds to prepay principal on its senior secured notes semi annual principal payments on the remaining 40 mln dlrs of notes have been satisfied until december 1988 as a result it said the company said the note agreements were amended to reflect an easing of some financial covenants and an increase of interest to 13 5 pct from 13 0 pct until december 1990 it said the noteholders exercise price for 1 125 000 warrants was also reduced to 50 cts from 1 50 dlrs the company said energy assets agreed to share the costs of increasing production at the oak hill field reuter 3',\n",
       " '<sos> strong south easterly winds were keeping many vessels trapped in the ice off the finnish and swedish coasts in one of the worst icy periods in the baltic for many years the finnish board of navigation said in finland and sweden up to 50 vessels were reported to be stuck in the ice and even the largest of the assisting icebreakers were having difficulties in breaking through to the stranded ships coastguard officials said however icy conditions in the southern baltic at the soviet oil ports of ventspils and klaipeda had eased they said weather officials in neighbouring sweden said the icy conditions in the baltic were the worst for 30 years with ships fighting a losing battle to keep moving in the coastal stretches of the gulf of bothnia which divides finland and sweden the ice is up to one metre thick with drifts and currents packing it into almost impenetrable walls three metres high swedish coastguard officials said weather forecasts say winds may ease during the weekend but a further drop in temperature could bring shipping to a standstill the officials said reuter 3']"
      ]
     },
     "execution_count": 16,
     "metadata": {},
     "output_type": "execute_result"
    }
   ],
   "source": [
    "x_train[:5]\n",
    "x_test[:5]"
   ]
  },
  {
   "cell_type": "markdown",
   "id": "2cd4a869",
   "metadata": {},
   "source": [
    "##### 벡터화 하기"
   ]
  },
  {
   "cell_type": "code",
   "execution_count": 17,
   "id": "2a66d405",
   "metadata": {},
   "outputs": [
    {
     "name": "stdout",
     "output_type": "stream",
     "text": [
      "(8982, 26506)\n"
     ]
    }
   ],
   "source": [
    "from sklearn.feature_extraction.text import CountVectorizer\n",
    "from sklearn.feature_extraction.text import TfidfTransformer\n",
    "\n",
    "# DTM 생성 및 크기 확인\n",
    "dtmvector = CountVectorizer()\n",
    "x_train_dtm = dtmvector.fit_transform(x_train)\n",
    "print(x_train_dtm.shape)"
   ]
  },
  {
   "cell_type": "code",
   "execution_count": 18,
   "id": "406e9abd",
   "metadata": {},
   "outputs": [
    {
     "name": "stdout",
     "output_type": "stream",
     "text": [
      "(8982, 26506)\n"
     ]
    }
   ],
   "source": [
    "# TF-IDF Matrix 사이킷런 `TfidfTransformers()\n",
    "tfidf_transformer = TfidfTransformer()\n",
    "tfidfv = tfidf_transformer.fit_transform(x_train_dtm)\n",
    "print(tfidfv.shape)"
   ]
  },
  {
   "cell_type": "markdown",
   "id": "be4c7fa7",
   "metadata": {},
   "source": [
    "#####  나이브 베이즈 분류기"
   ]
  },
  {
   "cell_type": "code",
   "execution_count": 19,
   "id": "3c65a772",
   "metadata": {},
   "outputs": [
    {
     "data": {
      "text/plain": [
       "MultinomialNB()"
      ]
     },
     "execution_count": 19,
     "metadata": {},
     "output_type": "execute_result"
    }
   ],
   "source": [
    "from sklearn.naive_bayes import MultinomialNB #다항분포 나이브 베이즈 모델\n",
    "from sklearn.linear_model import LogisticRegression, SGDClassifier\n",
    "from sklearn.naive_bayes import ComplementNB\n",
    "from sklearn.tree import DecisionTreeClassifier\n",
    "from sklearn.ensemble import RandomForestClassifier\n",
    "from sklearn.ensemble import GradientBoostingClassifier\n",
    "from sklearn.ensemble import VotingClassifier\n",
    "from sklearn.svm import LinearSVC\n",
    "from sklearn.metrics import accuracy_score #정확도 계산\n",
    "\n",
    "\n",
    "# 나이브 베이즈 분류기, multinomialNB(), fit() 학습\n",
    "model = MultinomialNB()\n",
    "model.fit(tfidfv, y_train)"
   ]
  },
  {
   "cell_type": "code",
   "execution_count": 20,
   "id": "eb2b55ea",
   "metadata": {},
   "outputs": [
    {
     "name": "stdout",
     "output_type": "stream",
     "text": [
      "x_test size: 2246\n",
      "y_test size: 2246\n"
     ]
    }
   ],
   "source": [
    "# 사이즈 확인\n",
    "print(f\"x_test size: {len(x_test)}\")\n",
    "print(f\"y_test size: {len(y_test)}\")\n"
   ]
  },
  {
   "cell_type": "code",
   "execution_count": 21,
   "id": "ac8c67b1",
   "metadata": {},
   "outputs": [
    {
     "name": "stdout",
     "output_type": "stream",
     "text": [
      "정확도: 0.5997328584149599\n"
     ]
    }
   ],
   "source": [
    "x_test_dtm = dtmvector.transform(x_test) #테스트 데이터를 DTM으로 변환\n",
    "tfidfv_test = tfidf_transformer.transform(x_test_dtm) #DTM을 TF-IDF 행렬로 변환\n",
    "\n",
    "predicted = model.predict(tfidfv_test) #테스트 데이터에 대한 예측\n",
    "print(\"정확도:\", accuracy_score(y_test, predicted)) #예측값과 실제값 비교"
   ]
  },
  {
   "cell_type": "markdown",
   "id": "9b7d75a3",
   "metadata": {},
   "source": [
    "- num_words가 10000개 였을 때 보다 정확도가 6%나 떨어졌다."
   ]
  },
  {
   "cell_type": "code",
   "execution_count": 22,
   "id": "62ea2003",
   "metadata": {},
   "outputs": [
    {
     "data": {
      "text/plain": [
       "'<sos> graham mccormick oil and gas partnership said it completed the sale of interests in two major oil and gas fields to lt energy assets international corp for 21 mln dlrs the company said it sold about one half of its 50 pct interest in the oak hill and north rucias fields its two largest producing properties it said it used about 20 mln dlrs of the proceeds to prepay principal on its senior secured notes semi annual principal payments on the remaining 40 mln dlrs of notes have been satisfied until december 1988 as a result it said the company said the note agreements were amended to reflect an easing of some financial covenants and an increase of interest to 13 5 pct from 13 0 pct until december 1990 it said the noteholders exercise price for 1 125 000 warrants was also reduced to 50 cts from 1 50 dlrs the company said energy assets agreed to share the costs of increasing production at the oak hill field reuter 3'"
      ]
     },
     "execution_count": 22,
     "metadata": {},
     "output_type": "execute_result"
    }
   ],
   "source": [
    "x_test[3]"
   ]
  },
  {
   "cell_type": "code",
   "execution_count": 23,
   "id": "274a5657",
   "metadata": {},
   "outputs": [
    {
     "data": {
      "text/plain": [
       "4"
      ]
     },
     "execution_count": 23,
     "metadata": {},
     "output_type": "execute_result"
    }
   ],
   "source": [
    "y_test[3]"
   ]
  },
  {
   "cell_type": "code",
   "execution_count": 24,
   "id": "1a7ee9cf",
   "metadata": {},
   "outputs": [
    {
     "data": {
      "image/png": "[encoded data removed]",
      "text/plain": [
       "<Figure size 792x360 with 1 Axes>"
      ]
     },
     "metadata": {
      "needs_background": "light"
     },
     "output_type": "display_data"
    }
   ],
   "source": [
    "# 단어 분포 시각화\n",
    "probability_3 = model.predict_proba(tfidfv_test[3])[0]\n",
    "\n",
    "plt.rcParams[\"figure.figsize\"] = (11,5)\n",
    "plt.bar(model.classes_, probability_3)\n",
    "plt.xlim(-1, 21)\n",
    "plt.xticks(model.classes_)\n",
    "plt.xlabel(\"Class\")\n",
    "plt.ylabel(\"Probability\")\n",
    "plt.show()"
   ]
  },
  {
   "cell_type": "code",
   "execution_count": 25,
   "id": "ca3c4870",
   "metadata": {},
   "outputs": [
    {
     "data": {
      "text/plain": [
       "array([4])"
      ]
     },
     "execution_count": 25,
     "metadata": {},
     "output_type": "execute_result"
    }
   ],
   "source": [
    "model.predict(tfidfv_test[3])"
   ]
  },
  {
   "cell_type": "markdown",
   "id": "99088dd6",
   "metadata": {},
   "source": [
    "##### F1-Score, Confusion Matrix(혼동행렬) 확인"
   ]
  },
  {
   "cell_type": "code",
   "execution_count": 26,
   "id": "8d3f9933",
   "metadata": {},
   "outputs": [
    {
     "name": "stdout",
     "output_type": "stream",
     "text": [
      "              precision    recall  f1-score   support\n",
      "\n",
      "           0       0.00      0.00      0.00        12\n",
      "           1       0.79      0.21      0.33       105\n",
      "           2       0.00      0.00      0.00        20\n",
      "           3       0.72      0.92      0.81       813\n",
      "           4       0.45      0.96      0.61       474\n",
      "           5       0.00      0.00      0.00         5\n",
      "           6       0.00      0.00      0.00        14\n",
      "           7       0.00      0.00      0.00         3\n",
      "           8       0.00      0.00      0.00        38\n",
      "           9       0.00      0.00      0.00        25\n",
      "          10       0.00      0.00      0.00        30\n",
      "          11       0.80      0.29      0.42        83\n",
      "          12       0.00      0.00      0.00        13\n",
      "          13       0.00      0.00      0.00        37\n",
      "          14       0.00      0.00      0.00         2\n",
      "          15       0.00      0.00      0.00         9\n",
      "          16       0.75      0.18      0.29        99\n",
      "          17       0.00      0.00      0.00        12\n",
      "          18       0.00      0.00      0.00        20\n",
      "          19       0.73      0.58      0.64       133\n",
      "          20       0.00      0.00      0.00        70\n",
      "          21       0.00      0.00      0.00        27\n",
      "          22       0.00      0.00      0.00         7\n",
      "          23       0.00      0.00      0.00        12\n",
      "          24       0.00      0.00      0.00        19\n",
      "          25       0.00      0.00      0.00        31\n",
      "          26       0.00      0.00      0.00         8\n",
      "          27       0.00      0.00      0.00         4\n",
      "          28       0.00      0.00      0.00        10\n",
      "          29       0.00      0.00      0.00         4\n",
      "          30       0.00      0.00      0.00        12\n",
      "          31       0.00      0.00      0.00        13\n",
      "          32       0.00      0.00      0.00        10\n",
      "          33       0.00      0.00      0.00         5\n",
      "          34       0.00      0.00      0.00         7\n",
      "          35       0.00      0.00      0.00         6\n",
      "          36       0.00      0.00      0.00        11\n",
      "          37       0.00      0.00      0.00         2\n",
      "          38       0.00      0.00      0.00         3\n",
      "          39       0.00      0.00      0.00         5\n",
      "          40       0.00      0.00      0.00        10\n",
      "          41       0.00      0.00      0.00         8\n",
      "          42       0.00      0.00      0.00         3\n",
      "          43       0.00      0.00      0.00         6\n",
      "          44       0.00      0.00      0.00         5\n",
      "          45       0.00      0.00      0.00         1\n",
      "\n",
      "    accuracy                           0.60      2246\n",
      "   macro avg       0.09      0.07      0.07      2246\n",
      "weighted avg       0.50      0.60      0.50      2246\n",
      "\n"
     ]
    }
   ],
   "source": [
    "from sklearn.metrics import classification_report\n",
    "from sklearn.metrics import confusion_matrix\n",
    "\n",
    "print(classification_report(y_test, model.predict(tfidfv_test), zero_division=0))"
   ]
  },
  {
   "cell_type": "markdown",
   "id": "59b4cf99",
   "metadata": {},
   "source": [
    "- macro: 단순평균\n",
    "- weighted: 각 클래스에 속하는 표본의 개수로 가중평균\n",
    "- accuracy: 정확도. 전체 학습 데이터의 개수에서 클래스를 정확하게 맞춘 개수의 비율\n",
    "\n",
    "---\n",
    "\n",
    "> f1-score\n",
    "\n",
    "- num_words: 10000개, accuracy:66%, macro:10%, weight:58%\n",
    "- num_words: None, accuracy:60%, macro:7%, weight:50%   // 전체적으로 떨어졌다."
   ]
  },
  {
   "cell_type": "markdown",
   "id": "eda6040e",
   "metadata": {},
   "source": [
    "##### Confusion Matrix\n",
    "TP는 True로 예측하고 실제 값도 True, FN은 False로 예측하고 실제는 True"
   ]
  },
  {
   "cell_type": "code",
   "execution_count": 27,
   "id": "4bfe3b83",
   "metadata": {},
   "outputs": [
    {
     "data": {
      "image/png": "[encoded data removed]",
      "text/plain": [
       "<Figure size 864x864 with 2 Axes>"
      ]
     },
     "metadata": {
      "needs_background": "light"
     },
     "output_type": "display_data"
    }
   ],
   "source": [
    "# Confusion Matrix\n",
    "# TP는 True로 예측하고 실제 값도 True, FN은 False로 예측하고 실제는 True\n",
    "\n",
    "def graph_confusion_matrix(model, x_test, y_test):#, classes_name):\n",
    "  df_cm = pd.DataFrame(confusion_matrix(y_test, model.predict(x_test)))#, index=classes_name, columns=classes_name)\n",
    "  fig = plt.figure(figsize=(12,12))\n",
    "  heatmap = sns.heatmap(df_cm, annot=True, fmt=\"d\")\n",
    "  heatmap.yaxis.set_ticklabels(heatmap.yaxis.get_ticklabels(), rotation=0, ha='right', fontsize=12)\n",
    "  heatmap.xaxis.set_ticklabels(heatmap.xaxis.get_ticklabels(), rotation=45, ha='right', fontsize=12)\n",
    "  plt.ylabel('label')\n",
    "  plt.xlabel('predicted value')\n",
    "\n",
    "graph_confusion_matrix(model, tfidfv_test, y_test)"
   ]
  },
  {
   "cell_type": "markdown",
   "id": "a8cc95da",
   "metadata": {},
   "source": [
    "#### Complement Naive Bayes Classifier(CNB)\n",
    "- 데이터 불균형 경우에 가중치 부여 특징"
   ]
  },
  {
   "cell_type": "code",
   "execution_count": 29,
   "id": "bb9875b7",
   "metadata": {},
   "outputs": [
    {
     "name": "stdout",
     "output_type": "stream",
     "text": [
      "정확도: 0.7649154051647373\n"
     ]
    }
   ],
   "source": [
    "cb = ComplementNB()\n",
    "cb.fit(tfidfv, y_train)\n",
    "\n",
    "predicted = cb.predict(tfidfv_test) #테스트 데이터에 대한 예측\n",
    "print(\"정확도:\", accuracy_score(y_test, predicted)) #예측값과 실제값 비교"
   ]
  },
  {
   "cell_type": "markdown",
   "id": "393e0300",
   "metadata": {},
   "source": [
    "#### 로지스틱 회귀\n",
    "- 오차와 실제값의 차이를 줄이는 과정에서 가중치와 편향이 학습\n",
    "- 학습이 오래걸리지만 정확도가 잘 나옴"
   ]
  },
  {
   "cell_type": "code",
   "execution_count": 30,
   "id": "adb49232",
   "metadata": {},
   "outputs": [
    {
     "name": "stdout",
     "output_type": "stream",
     "text": [
      "정확도: 0.8165627782724845\n"
     ]
    }
   ],
   "source": [
    "# 10분 정도 소요됩니다.\n",
    "lr = LogisticRegression(C=10000, penalty='l2', max_iter=3000)\n",
    "lr.fit(tfidfv, y_train)\n",
    "\n",
    "predicted = lr.predict(tfidfv_test) #테스트 데이터에 대한 예측\n",
    "print(\"정확도:\", accuracy_score(y_test, predicted)) #예측값과 실제값 비교"
   ]
  },
  {
   "cell_type": "markdown",
   "id": "0250c294",
   "metadata": {},
   "source": [
    "#### 선형 서포트 벡터 머신\n",
    "- 고차원 데이터에 매우 적합, 선형/비선형 관계 처리, 텍스트 데이터 분류에 우수한 성능"
   ]
  },
  {
   "cell_type": "code",
   "execution_count": 31,
   "id": "aafe34e8",
   "metadata": {},
   "outputs": [
    {
     "name": "stdout",
     "output_type": "stream",
     "text": [
      "Test Accuracy: 0.7943\n",
      "Confusion Matrix:\n",
      "[[ 8  1  0 ...  0  0  0]\n",
      " [ 0 80  1 ...  0  0  0]\n",
      " [ 0  0 15 ...  0  0  0]\n",
      " ...\n",
      " [ 0  0  0 ...  6  0  0]\n",
      " [ 0  1  0 ...  0  4  0]\n",
      " [ 0  0  0 ...  0  0  1]]\n",
      "Classification Report:\n",
      "              precision    recall  f1-score   support\n",
      "\n",
      "           0       0.80      0.67      0.73        12\n",
      "           1       0.73      0.76      0.74       105\n",
      "           2       0.62      0.75      0.68        20\n",
      "           3       0.92      0.92      0.92       813\n",
      "           4       0.81      0.85      0.83       474\n",
      "           5       0.00      0.00      0.00         5\n",
      "           6       0.93      0.93      0.93        14\n",
      "           7       1.00      0.33      0.50         3\n",
      "           8       0.58      0.68      0.63        38\n",
      "           9       0.81      0.84      0.82        25\n",
      "          10       0.89      0.80      0.84        30\n",
      "          11       0.65      0.75      0.70        83\n",
      "          12       0.44      0.31      0.36        13\n",
      "          13       0.64      0.57      0.60        37\n",
      "          14       0.50      1.00      0.67         2\n",
      "          15       0.57      0.44      0.50         9\n",
      "          16       0.69      0.75      0.72        99\n",
      "          17       0.86      0.50      0.63        12\n",
      "          18       0.93      0.65      0.76        20\n",
      "          19       0.64      0.68      0.66       133\n",
      "          20       0.55      0.44      0.49        70\n",
      "          21       0.54      0.78      0.64        27\n",
      "          22       0.25      0.14      0.18         7\n",
      "          23       0.54      0.58      0.56        12\n",
      "          24       0.82      0.47      0.60        19\n",
      "          25       0.88      0.68      0.76        31\n",
      "          26       0.88      0.88      0.88         8\n",
      "          27       1.00      0.50      0.67         4\n",
      "          28       0.57      0.40      0.47        10\n",
      "          29       0.30      0.75      0.43         4\n",
      "          30       1.00      0.58      0.74        12\n",
      "          31       0.86      0.46      0.60        13\n",
      "          32       1.00      0.90      0.95        10\n",
      "          33       0.80      0.80      0.80         5\n",
      "          34       0.67      0.57      0.62         7\n",
      "          35       0.67      0.33      0.44         6\n",
      "          36       0.36      0.36      0.36        11\n",
      "          37       0.50      0.50      0.50         2\n",
      "          38       0.50      0.33      0.40         3\n",
      "          39       0.50      0.40      0.44         5\n",
      "          40       0.50      0.30      0.37        10\n",
      "          41       0.67      0.50      0.57         8\n",
      "          42       1.00      0.67      0.80         3\n",
      "          43       0.86      1.00      0.92         6\n",
      "          44       0.67      0.80      0.73         5\n",
      "          45       1.00      1.00      1.00         1\n",
      "\n",
      "    accuracy                           0.79      2246\n",
      "   macro avg       0.69      0.62      0.63      2246\n",
      "weighted avg       0.80      0.79      0.79      2246\n",
      "\n"
     ]
    },
    {
     "name": "stderr",
     "output_type": "stream",
     "text": [
      "/opt/conda/lib/python3.9/site-packages/sklearn/svm/_base.py:1199: ConvergenceWarning: Liblinear failed to converge, increase the number of iterations.\n",
      "  warnings.warn(\n",
      "/opt/conda/lib/python3.9/site-packages/sklearn/metrics/_classification.py:1308: UndefinedMetricWarning: Precision and F-score are ill-defined and being set to 0.0 in labels with no predicted samples. Use `zero_division` parameter to control this behavior.\n",
      "  _warn_prf(average, modifier, msg_start, len(result))\n",
      "/opt/conda/lib/python3.9/site-packages/sklearn/metrics/_classification.py:1308: UndefinedMetricWarning: Precision and F-score are ill-defined and being set to 0.0 in labels with no predicted samples. Use `zero_division` parameter to control this behavior.\n",
      "  _warn_prf(average, modifier, msg_start, len(result))\n",
      "/opt/conda/lib/python3.9/site-packages/sklearn/metrics/_classification.py:1308: UndefinedMetricWarning: Precision and F-score are ill-defined and being set to 0.0 in labels with no predicted samples. Use `zero_division` parameter to control this behavior.\n",
      "  _warn_prf(average, modifier, msg_start, len(result))\n"
     ]
    }
   ],
   "source": [
    "lsvc = LinearSVC(C=1000, penalty='l1', max_iter=3000, dual=False)\n",
    "lsvc.fit(tfidfv, y_train)\n",
    "\n",
    "from sklearn.svm import LinearSVC\n",
    "from sklearn.metrics import accuracy_score, confusion_matrix, classification_report\n",
    "\n",
    "# 이미 학습된 lsvc 모델을 테스트 데이터로 예측\n",
    "predicted = lsvc.predict(tfidfv_test)  # tfidfv_test는 테스트 데이터를 TF-IDF로 변환한 것\n",
    "\n",
    "# 정확도 계산\n",
    "accuracy = accuracy_score(y_test, predicted)  # y_test는 실제 테스트 데이터의 레이블\n",
    "print(f\"Test Accuracy: {accuracy:.4f}\")\n",
    "\n",
    "# 혼동행렬 계산\n",
    "conf_matrix = confusion_matrix(y_test, predicted)\n",
    "print(\"Confusion Matrix:\")\n",
    "print(conf_matrix)\n",
    "\n",
    "# 분류 리포트 출력 (정밀도, 재현율, F1 Score 등을 포함)\n",
    "class_report = classification_report(y_test, predicted)\n",
    "print(\"Classification Report:\")\n",
    "print(class_report)"
   ]
  },
  {
   "cell_type": "markdown",
   "id": "800f09d5",
   "metadata": {},
   "source": [
    "#### 결정 트리(Decision Tree)\n",
    "- 결정 트리는 복잡한 데이터를 직관적으로 분류하며 가지치기를 사용"
   ]
  },
  {
   "cell_type": "code",
   "execution_count": 32,
   "id": "7a477674",
   "metadata": {},
   "outputs": [
    {
     "name": "stdout",
     "output_type": "stream",
     "text": [
      "정확도: 0.6211041852181657\n"
     ]
    }
   ],
   "source": [
    "tree = DecisionTreeClassifier(max_depth=10, random_state=0)\n",
    "tree.fit(tfidfv, y_train)\n",
    "\n",
    "predicted = tree.predict(tfidfv_test) #테스트 데이터에 대한 예측\n",
    "print(\"정확도:\", accuracy_score(y_test, predicted)) #예측값과 실제값 비교"
   ]
  },
  {
   "cell_type": "markdown",
   "id": "431b24c3",
   "metadata": {},
   "source": [
    "#### 랜덤 포레스트(Random Forest)\n",
    "- 앙상블(Ensemble) 이란 여러 머신러닝 모델을 연결하여 더 강력한 모델을 만드는 기법"
   ]
  },
  {
   "cell_type": "code",
   "execution_count": 33,
   "id": "91996aa5",
   "metadata": {},
   "outputs": [
    {
     "name": "stdout",
     "output_type": "stream",
     "text": [
      "정확도: 0.6544968833481746\n"
     ]
    }
   ],
   "source": [
    "from sklearn.ensemble import RandomForestClassifier\n",
    "\n",
    "# RandomForestClassifier 선언 (estimator 5개, random_state=0)\n",
    "forest = RandomForestClassifier(n_estimators=5, random_state=0)\n",
    "\n",
    "# 모델 훈련 (tfidfv는 TF-IDF로 변환한 훈련 데이터, y_train은 훈련 레이블)\n",
    "forest.fit(tfidfv, y_train)\n",
    "\n",
    "predicted = forest.predict(tfidfv_test) #테스트 데이터에 대한 예측\n",
    "print(\"정확도:\", accuracy_score(y_test, predicted)) #예측값과 실제값 비교"
   ]
  },
  {
   "cell_type": "markdown",
   "id": "65b5a0b2",
   "metadata": {},
   "source": [
    "#### 그래디언트 부스팅 트리(Gradient Boosting Classifier)\n",
    "- 이전 트리의 오차를 보완하는 방식으로 순차적으로 트리를 만듭니다.\n",
    "- 메모리도 적게 사용하고 예측도 빠릅니다"
   ]
  },
  {
   "cell_type": "code",
   "execution_count": 34,
   "id": "1271417c",
   "metadata": {},
   "outputs": [
    {
     "name": "stdout",
     "output_type": "stream",
     "text": [
      "정확도: 0.7702582368655387\n"
     ]
    }
   ],
   "source": [
    "# 15분 정도 소요될 수 있습니다.\n",
    "grbt = GradientBoostingClassifier(random_state=0) # verbose=3\n",
    "grbt.fit(tfidfv, y_train)\n",
    "\n",
    "predicted = grbt.predict(tfidfv_test) #테스트 데이터에 대한 예측\n",
    "print(\"정확도:\", accuracy_score(y_test, predicted)) #예측값과 실제값 비교"
   ]
  },
  {
   "cell_type": "markdown",
   "id": "8c29cd2b",
   "metadata": {},
   "source": [
    "#### 보팅(Voting)\n",
    "- 소프트 보팅(Soft Voting): 각 분류기의 확률 출력을 이용해 최종 예측을 수행."
   ]
  },
  {
   "cell_type": "code",
   "execution_count": 35,
   "id": "7f7e0871",
   "metadata": {},
   "outputs": [
    {
     "name": "stdout",
     "output_type": "stream",
     "text": [
      "Voting Classifier Accuracy: 0.7983\n"
     ]
    }
   ],
   "source": [
    "from sklearn.ensemble import VotingClassifier\n",
    "from sklearn.linear_model import LogisticRegression\n",
    "from sklearn.naive_bayes import ComplementNB\n",
    "from sklearn.ensemble import GradientBoostingClassifier\n",
    "\n",
    "# 조건 1: 로지스틱 회귀 모델 (L2 패널티 사용)\n",
    "log_clf = LogisticRegression(penalty='l2', solver='liblinear', random_state=0)\n",
    "\n",
    "# 조건 2: Complement Naive Bayes\n",
    "cnb_clf = ComplementNB()\n",
    "\n",
    "# 조건 3: Gradient Boosting Classifier\n",
    "gb_clf = GradientBoostingClassifier(random_state=0)\n",
    "\n",
    "# 소프트 보팅 분류기 생성\n",
    "voting_classifier = VotingClassifier(\n",
    "    estimators=[('lr', log_clf), ('cnb', cnb_clf), ('gb', gb_clf)], \n",
    "    voting='soft'\n",
    ")\n",
    "\n",
    "# 모델 학습\n",
    "voting_classifier.fit(tfidfv, y_train)\n",
    "\n",
    "# 예측\n",
    "predicted = voting_classifier.predict(tfidfv_test)\n",
    "\n",
    "# 성능 평가\n",
    "from sklearn.metrics import accuracy_score\n",
    "\n",
    "accuracy = accuracy_score(y_test, predicted)\n",
    "print(f\"Voting Classifier Accuracy: {accuracy:.4f}\")"
   ]
  },
  {
   "cell_type": "code",
   "execution_count": 36,
   "id": "41194739",
   "metadata": {},
   "outputs": [
    {
     "name": "stdout",
     "output_type": "stream",
     "text": [
      "정확도: 0.7983081032947462\n"
     ]
    }
   ],
   "source": [
    "predicted = voting_classifier.predict(tfidfv_test) #테스트 데이터에 대한 예측\n",
    "print(\"정확도:\", accuracy_score(y_test, predicted)) #예측값과 실제값 비교"
   ]
  },
  {
   "cell_type": "markdown",
   "id": "7b7379b9",
   "metadata": {},
   "source": [
    "### 평가 (num_words=None) 및 계획\n",
    "\n",
    "num_words를 10000개 설정했을 때와 별반 다를 게 없었다.\n",
    "\n",
    "모든 단어 수와 10000개와 데이터양이 별 차이가 나지 않기 때문인 것 같기도 하다.\n",
    "\n",
    "이번에는 words 수를 5000개로 줄이고, 가장 성능 좋았던 모델(SVM, 로지스틱 회귀, 랜덤 포레스트)를 선정하고 마지막에는 보팅 소프트보팅 방식으로 진행해보겠다."
   ]
  },
  {
   "cell_type": "markdown",
   "id": "db7367ed",
   "metadata": {},
   "source": [
    "## 2. 빈도수 상위 5,000개 단어 사용"
   ]
  },
  {
   "cell_type": "code",
   "execution_count": 37,
   "id": "fbeec445",
   "metadata": {},
   "outputs": [],
   "source": [
    "(x_train, y_train), (x_test, y_test) = reuters.load_data(num_words=5000, test_split=0.2)"
   ]
  },
  {
   "cell_type": "code",
   "execution_count": 38,
   "id": "9c7c6c17",
   "metadata": {},
   "outputs": [
    {
     "name": "stdout",
     "output_type": "stream",
     "text": [
      "훈련 샘플의 수: 8982\n",
      "테스트 샘플의 수: 2246\n"
     ]
    }
   ],
   "source": [
    "# 데이터 구성 출력\n",
    "print('훈련 샘플의 수: {}'.format(len(x_train)))\n",
    "print('테스트 샘플의 수: {}'.format(len(x_test)))"
   ]
  },
  {
   "cell_type": "code",
   "execution_count": 39,
   "id": "6c383082",
   "metadata": {},
   "outputs": [
    {
     "name": "stdout",
     "output_type": "stream",
     "text": [
      "클래스의 수 : 46\n"
     ]
    }
   ],
   "source": [
    "num_classes = max(y_train) + 1\n",
    "print('클래스의 수 : {}'.format(num_classes))"
   ]
  },
  {
   "cell_type": "markdown",
   "id": "2c88afd9",
   "metadata": {},
   "source": [
    "##### 데이터 분포 확인(num: 5000)"
   ]
  },
  {
   "cell_type": "code",
   "execution_count": 40,
   "id": "59a5ed3d",
   "metadata": {},
   "outputs": [
    {
     "name": "stdout",
     "output_type": "stream",
     "text": [
      "훈련용 뉴스의 최대 길이 :2376\n",
      "훈련용 뉴스의 평균 길이 :145.5398574927633\n"
     ]
    },
    {
     "data": {
      "image/png": "[encoded data removed]",
      "text/plain": [
       "<Figure size 792x360 with 1 Axes>"
      ]
     },
     "metadata": {
      "needs_background": "light"
     },
     "output_type": "display_data"
    }
   ],
   "source": [
    "print('훈련용 뉴스의 최대 길이 :{}'.format(max(len(l) for l in x_train)))\n",
    "print('훈련용 뉴스의 평균 길이 :{}'.format(sum(map(len, x_train))/len(x_train)))\n",
    "\n",
    "plt.hist([len(s) for s in x_train], bins=50)\n",
    "plt.xlabel('length of samples')\n",
    "plt.ylabel('number of samples')\n",
    "plt.show()"
   ]
  },
  {
   "cell_type": "markdown",
   "id": "cdd6ff1a",
   "metadata": {},
   "source": [
    "##### 클래스 분포 확인(num: 5000)"
   ]
  },
  {
   "cell_type": "code",
   "execution_count": 41,
   "id": "5805d45c",
   "metadata": {},
   "outputs": [
    {
     "data": {
      "image/png": "[encoded data removed]",
      "text/plain": [
       "<Figure size 792x360 with 1 Axes>"
      ]
     },
     "metadata": {
      "needs_background": "light"
     },
     "output_type": "display_data"
    }
   ],
   "source": [
    "fig, axe = plt.subplots(ncols=1)\n",
    "fig.set_size_inches(11,5)\n",
    "sns.countplot(x=y_train)\n",
    "plt.show()"
   ]
  },
  {
   "cell_type": "code",
   "execution_count": 42,
   "id": "2609f460",
   "metadata": {},
   "outputs": [
    {
     "name": "stdout",
     "output_type": "stream",
     "text": [
      "각 클래스 빈도수:\n",
      "[[   0    1    2    3    4    5    6    7    8    9   10   11   12   13\n",
      "    14   15   16   17   18   19   20   21   22   23   24   25   26   27\n",
      "    28   29   30   31   32   33   34   35   36   37   38   39   40   41\n",
      "    42   43   44   45]\n",
      " [  55  432   74 3159 1949   17   48   16  139  101  124  390   49  172\n",
      "    26   20  444   39   66  549  269  100   15   41   62   92   24   15\n",
      "    48   19   45   39   32   11   50   10   49   19   19   24   36   30\n",
      "    13   21   12   18]]\n"
     ]
    }
   ],
   "source": [
    "# 수치적으로 정확한 출력\n",
    "unique_elements, counts_elements = np.unique(y_train, return_counts=True)\n",
    "print(\"각 클래스 빈도수:\")\n",
    "print(np.asarray((unique_elements, counts_elements)))"
   ]
  },
  {
   "cell_type": "markdown",
   "id": "cf3771bd",
   "metadata": {},
   "source": [
    "##### 원본 뉴스 데이터 복원"
   ]
  },
  {
   "cell_type": "code",
   "execution_count": 43,
   "id": "556346ea",
   "metadata": {},
   "outputs": [],
   "source": [
    "# 데이터의 단어장(word_index)\n",
    "word_index = reuters.get_word_index(path=\"reuters_word_index.json\")"
   ]
  },
  {
   "cell_type": "code",
   "execution_count": 44,
   "id": "b41e5eee",
   "metadata": {},
   "outputs": [
    {
     "name": "stdout",
     "output_type": "stream",
     "text": [
      "the\n",
      "it\n"
     ]
    }
   ],
   "source": [
    "index_to_word = { index+3 : word for word, index in word_index.items() }\n",
    "\n",
    "print(index_to_word[4])  # 1+3\n",
    "print(index_to_word[16])  # 13+3"
   ]
  },
  {
   "cell_type": "code",
   "execution_count": 45,
   "id": "458d36d0",
   "metadata": {},
   "outputs": [
    {
     "name": "stdout",
     "output_type": "stream",
     "text": [
      "<sos> <unk> <unk> said as a result of its december acquisition of space co it expects earnings per share in 1987 of 1 15 to 1 30 dlrs per share up from 70 cts in 1986 the company said pretax net should rise to nine to 10 mln dlrs from six mln dlrs in 1986 and rental operation revenues to 19 to 22 mln dlrs from 12 5 mln dlrs it said cash flow per share this year should be 2 50 to three dlrs reuter 3\n"
     ]
    }
   ],
   "source": [
    "# index_to_word에 숫자 0은 <pad>, 숫자 1은 <sos>, 숫자 2는 <unk>를 넣어줍니다.\n",
    "for index, token in enumerate((\"<pad>\", \"<sos>\", \"<unk>\")):\n",
    "  index_to_word[index]=token\n",
    "\n",
    "print(' '.join([index_to_word[index] for index in x_train[0]]))"
   ]
  },
  {
   "cell_type": "markdown",
   "id": "158df809",
   "metadata": {},
   "source": [
    "##### OOV문제 UNK토큰\n",
    "- 전체 훈련용 뉴스 데이터, 테스트용 뉴스 데이터 -> 텍스트 데이터 변환"
   ]
  },
  {
   "cell_type": "code",
   "execution_count": 46,
   "id": "daea097e",
   "metadata": {},
   "outputs": [
    {
     "name": "stdout",
     "output_type": "stream",
     "text": [
      "8982\n"
     ]
    }
   ],
   "source": [
    "# 전체 훈련용 뉴스 데이터 -> 텍스트 데이터\n",
    "decoded = []\n",
    "for i in range(len(x_train)):\n",
    "    t = ' '.join([index_to_word[index] for index in x_train[i]])\n",
    "    decoded.append(t)\n",
    "\n",
    "x_train = decoded\n",
    "print(len(x_train))"
   ]
  },
  {
   "cell_type": "code",
   "execution_count": 47,
   "id": "9cf3fc1e",
   "metadata": {},
   "outputs": [
    {
     "name": "stdout",
     "output_type": "stream",
     "text": [
      "2246\n"
     ]
    }
   ],
   "source": [
    "# 전체 테스트용 뉴스 데이터 -> 텍스트 데이터\n",
    "decoded_test = []\n",
    "for i in range(len(x_test)):\n",
    "    t = ' '.join([index_to_word[index] for index in x_test[i]])\n",
    "    decoded_test.append(t)\n",
    "\n",
    "\n",
    "x_test = decoded_test\n",
    "print(len(x_test))"
   ]
  },
  {
   "cell_type": "markdown",
   "id": "eba448da",
   "metadata": {},
   "source": [
    "##### 벡터화 하기\n",
    "- 텍스트 분류 과정을 표현.\n",
    "- 벡터화 방법은 Bag of Words 가설을 기반으로 하는 DTM, TF-IDF 행렬"
   ]
  },
  {
   "cell_type": "code",
   "execution_count": 48,
   "id": "56f1b6cd",
   "metadata": {},
   "outputs": [
    {
     "name": "stdout",
     "output_type": "stream",
     "text": [
      "(8982, 4867)\n"
     ]
    }
   ],
   "source": [
    "from sklearn.feature_extraction.text import CountVectorizer\n",
    "from sklearn.feature_extraction.text import TfidfTransformer\n",
    "# DTM 생성 및 크기 확인\n",
    "dtmvector = CountVectorizer()\n",
    "x_train_dtm = dtmvector.fit_transform(x_train)\n",
    "print(x_train_dtm.shape)"
   ]
  },
  {
   "cell_type": "code",
   "execution_count": 49,
   "id": "b31ddbf2",
   "metadata": {
    "scrolled": true
   },
   "outputs": [
    {
     "name": "stdout",
     "output_type": "stream",
     "text": [
      "(8982, 4867)\n"
     ]
    }
   ],
   "source": [
    "# TF-IDF Matrix 사이킷런 `TfidfTransformers()\n",
    "tfidf_transformer = TfidfTransformer()\n",
    "tfidfv = tfidf_transformer.fit_transform(x_train_dtm)\n",
    "print(tfidfv.shape)"
   ]
  },
  {
   "cell_type": "markdown",
   "id": "885cc61a",
   "metadata": {},
   "source": [
    "##### 나이브베이즈 분류기"
   ]
  },
  {
   "cell_type": "code",
   "execution_count": 52,
   "id": "06cc4119",
   "metadata": {},
   "outputs": [
    {
     "name": "stdout",
     "output_type": "stream",
     "text": [
      "x_test size: 2246\n",
      "y_test size: 2246\n"
     ]
    }
   ],
   "source": [
    "from sklearn.naive_bayes import MultinomialNB #다항분포 나이브 베이즈 모델\n",
    "from sklearn.linear_model import LogisticRegression, SGDClassifier\n",
    "from sklearn.naive_bayes import ComplementNB\n",
    "from sklearn.tree import DecisionTreeClassifier\n",
    "from sklearn.ensemble import RandomForestClassifier\n",
    "from sklearn.ensemble import GradientBoostingClassifier\n",
    "from sklearn.ensemble import VotingClassifier\n",
    "from sklearn.svm import LinearSVC\n",
    "from sklearn.metrics import accuracy_score #정확도 계산\n",
    "\n",
    "# 나이브 베이즈 분류기, multinomialNB(), fit() 학습\n",
    "model = MultinomialNB()\n",
    "model.fit(tfidfv, y_train)\n",
    "\n",
    "print(f\"x_test size: {len(x_test)}\")\n",
    "print(f\"y_test size: {len(y_test)}\")\n"
   ]
  },
  {
   "cell_type": "code",
   "execution_count": 53,
   "id": "cb41c32c",
   "metadata": {},
   "outputs": [
    {
     "name": "stdout",
     "output_type": "stream",
     "text": [
      "정확도: 0.6731967943009796\n"
     ]
    }
   ],
   "source": [
    "x_test_dtm = dtmvector.transform(x_test) #테스트 데이터를 DTM으로 변환\n",
    "tfidfv_test = tfidf_transformer.transform(x_test_dtm) #DTM을 TF-IDF 행렬로 변환\n",
    "\n",
    "predicted = model.predict(tfidfv_test) #테스트 데이터에 대한 예측\n",
    "print(\"정확도:\", accuracy_score(y_test, predicted)) #예측값과 실제값 비교"
   ]
  },
  {
   "cell_type": "code",
   "execution_count": 54,
   "id": "a093f9c5",
   "metadata": {},
   "outputs": [
    {
     "data": {
      "text/plain": [
       "array([4])"
      ]
     },
     "execution_count": 54,
     "metadata": {},
     "output_type": "execute_result"
    }
   ],
   "source": [
    "model.predict(tfidfv_test[3])"
   ]
  },
  {
   "cell_type": "markdown",
   "id": "749ff45b",
   "metadata": {},
   "source": [
    "### F1-Score 계산"
   ]
  },
  {
   "cell_type": "code",
   "execution_count": 63,
   "id": "4cdd3cdd",
   "metadata": {},
   "outputs": [
    {
     "name": "stdout",
     "output_type": "stream",
     "text": [
      "              precision    recall  f1-score   support\n",
      "\n",
      "           0       0.00      0.00      0.00        12\n",
      "           1       0.50      0.80      0.62       105\n",
      "           2       0.00      0.00      0.00        20\n",
      "           3       0.86      0.89      0.87       813\n",
      "           4       0.59      0.95      0.73       474\n",
      "           5       0.00      0.00      0.00         5\n",
      "           6       0.00      0.00      0.00        14\n",
      "           7       0.00      0.00      0.00         3\n",
      "           8       0.00      0.00      0.00        38\n",
      "           9       1.00      0.28      0.44        25\n",
      "          10       0.00      0.00      0.00        30\n",
      "          11       0.48      0.73      0.58        83\n",
      "          12       0.00      0.00      0.00        13\n",
      "          13       1.00      0.14      0.24        37\n",
      "          14       0.00      0.00      0.00         2\n",
      "          15       0.00      0.00      0.00         9\n",
      "          16       0.60      0.66      0.62        99\n",
      "          17       0.00      0.00      0.00        12\n",
      "          18       0.00      0.00      0.00        20\n",
      "          19       0.51      0.81      0.63       133\n",
      "          20       0.90      0.13      0.23        70\n",
      "          21       0.00      0.00      0.00        27\n",
      "          22       0.00      0.00      0.00         7\n",
      "          23       0.00      0.00      0.00        12\n",
      "          24       0.00      0.00      0.00        19\n",
      "          25       1.00      0.06      0.12        31\n",
      "          26       0.00      0.00      0.00         8\n",
      "          27       0.00      0.00      0.00         4\n",
      "          28       0.00      0.00      0.00        10\n",
      "          29       0.00      0.00      0.00         4\n",
      "          30       0.00      0.00      0.00        12\n",
      "          31       0.00      0.00      0.00        13\n",
      "          32       0.00      0.00      0.00        10\n",
      "          33       0.00      0.00      0.00         5\n",
      "          34       0.00      0.00      0.00         7\n",
      "          35       0.00      0.00      0.00         6\n",
      "          36       0.00      0.00      0.00        11\n",
      "          37       0.00      0.00      0.00         2\n",
      "          38       0.00      0.00      0.00         3\n",
      "          39       0.00      0.00      0.00         5\n",
      "          40       0.00      0.00      0.00        10\n",
      "          41       0.00      0.00      0.00         8\n",
      "          42       0.00      0.00      0.00         3\n",
      "          43       0.00      0.00      0.00         6\n",
      "          44       0.00      0.00      0.00         5\n",
      "          45       0.00      0.00      0.00         1\n",
      "\n",
      "    accuracy                           0.67      2246\n",
      "   macro avg       0.16      0.12      0.11      2246\n",
      "weighted avg       0.60      0.67      0.60      2246\n",
      "\n"
     ]
    }
   ],
   "source": [
    "from sklearn.metrics import classification_report\n",
    "from sklearn.metrics import confusion_matrix\n",
    "\n",
    "print(classification_report(y_test, model.predict(tfidfv_test), zero_division=0))"
   ]
  },
  {
   "cell_type": "markdown",
   "id": "3b5b317c",
   "metadata": {},
   "source": [
    "## 3. 직접 단어 개수를 설정해서 사용\n",
    "### 실험 모델 사용\n",
    "- 로지스틱회귀, 서포트벡터머신, 랜덤포레스트, 보팅\n",
    "\n",
    "#### 로지스틱 회귀 "
   ]
  },
  {
   "cell_type": "code",
   "execution_count": 55,
   "id": "bc7a5c5c",
   "metadata": {},
   "outputs": [
    {
     "name": "stdout",
     "output_type": "stream",
     "text": [
      "정확도: 0.8036509349955476\n"
     ]
    }
   ],
   "source": [
    "# 10분 정도 소요됩니다.\n",
    "lr = LogisticRegression(C=10000, penalty='l2', max_iter=3000)\n",
    "lr.fit(tfidfv, y_train)\n",
    "\n",
    "predicted = lr.predict(tfidfv_test) #테스트 데이터에 대한 예측\n",
    "print(\"정확도:\", accuracy_score(y_test, predicted)) #예측값과 실제값 비교"
   ]
  },
  {
   "cell_type": "markdown",
   "id": "d8ef1a3b",
   "metadata": {},
   "source": [
    "#### 서포트 벡터 머신"
   ]
  },
  {
   "cell_type": "code",
   "execution_count": 57,
   "id": "49040fa0",
   "metadata": {},
   "outputs": [
    {
     "name": "stdout",
     "output_type": "stream",
     "text": [
      "Test Accuracy: 0.7729\n",
      "Confusion Matrix:\n",
      "[[ 8  0  0 ...  0  0  0]\n",
      " [ 0 75  1 ...  0  0  0]\n",
      " [ 0  0 15 ...  0  0  0]\n",
      " ...\n",
      " [ 0  0  0 ...  6  0  0]\n",
      " [ 0  1  0 ...  0  4  0]\n",
      " [ 0  0  0 ...  0  0  1]]\n",
      "Classification Report:\n",
      "              precision    recall  f1-score   support\n",
      "\n",
      "           0       0.80      0.67      0.73        12\n",
      "           1       0.69      0.71      0.70       105\n",
      "           2       0.75      0.75      0.75        20\n",
      "           3       0.89      0.90      0.89       813\n",
      "           4       0.81      0.82      0.81       474\n",
      "           5       0.00      0.00      0.00         5\n",
      "           6       0.87      0.93      0.90        14\n",
      "           7       1.00      0.33      0.50         3\n",
      "           8       0.62      0.66      0.64        38\n",
      "           9       0.79      0.88      0.83        25\n",
      "          10       0.77      0.80      0.79        30\n",
      "          11       0.63      0.72      0.67        83\n",
      "          12       0.28      0.38      0.32        13\n",
      "          13       0.53      0.62      0.57        37\n",
      "          14       0.67      1.00      0.80         2\n",
      "          15       0.57      0.44      0.50         9\n",
      "          16       0.60      0.65      0.62        99\n",
      "          17       1.00      0.50      0.67        12\n",
      "          18       0.87      0.65      0.74        20\n",
      "          19       0.65      0.64      0.64       133\n",
      "          20       0.51      0.50      0.51        70\n",
      "          21       0.56      0.74      0.63        27\n",
      "          22       0.00      0.00      0.00         7\n",
      "          23       0.64      0.75      0.69        12\n",
      "          24       0.71      0.53      0.61        19\n",
      "          25       0.83      0.61      0.70        31\n",
      "          26       1.00      0.88      0.93         8\n",
      "          27       1.00      0.50      0.67         4\n",
      "          28       0.57      0.40      0.47        10\n",
      "          29       0.50      1.00      0.67         4\n",
      "          30       0.60      0.50      0.55        12\n",
      "          31       0.82      0.69      0.75        13\n",
      "          32       1.00      0.90      0.95        10\n",
      "          33       0.80      0.80      0.80         5\n",
      "          34       0.80      0.57      0.67         7\n",
      "          35       0.67      0.33      0.44         6\n",
      "          36       0.56      0.45      0.50        11\n",
      "          37       0.67      1.00      0.80         2\n",
      "          38       1.00      0.33      0.50         3\n",
      "          39       0.40      0.40      0.40         5\n",
      "          40       0.60      0.30      0.40        10\n",
      "          41       0.57      0.50      0.53         8\n",
      "          42       0.67      0.67      0.67         3\n",
      "          43       0.75      1.00      0.86         6\n",
      "          44       0.80      0.80      0.80         5\n",
      "          45       0.50      1.00      0.67         1\n",
      "\n",
      "    accuracy                           0.77      2246\n",
      "   macro avg       0.68      0.64      0.64      2246\n",
      "weighted avg       0.77      0.77      0.77      2246\n",
      "\n"
     ]
    },
    {
     "name": "stderr",
     "output_type": "stream",
     "text": [
      "/opt/conda/lib/python3.9/site-packages/sklearn/svm/_base.py:1199: ConvergenceWarning: Liblinear failed to converge, increase the number of iterations.\n",
      "  warnings.warn(\n",
      "/opt/conda/lib/python3.9/site-packages/sklearn/metrics/_classification.py:1308: UndefinedMetricWarning: Precision and F-score are ill-defined and being set to 0.0 in labels with no predicted samples. Use `zero_division` parameter to control this behavior.\n",
      "  _warn_prf(average, modifier, msg_start, len(result))\n",
      "/opt/conda/lib/python3.9/site-packages/sklearn/metrics/_classification.py:1308: UndefinedMetricWarning: Precision and F-score are ill-defined and being set to 0.0 in labels with no predicted samples. Use `zero_division` parameter to control this behavior.\n",
      "  _warn_prf(average, modifier, msg_start, len(result))\n",
      "/opt/conda/lib/python3.9/site-packages/sklearn/metrics/_classification.py:1308: UndefinedMetricWarning: Precision and F-score are ill-defined and being set to 0.0 in labels with no predicted samples. Use `zero_division` parameter to control this behavior.\n",
      "  _warn_prf(average, modifier, msg_start, len(result))\n"
     ]
    }
   ],
   "source": [
    "lsvc = LinearSVC(C=1000, penalty='l1', max_iter=3000, dual=False)\n",
    "lsvc.fit(tfidfv, y_train)\n",
    "\n",
    "from sklearn.svm import LinearSVC\n",
    "from sklearn.metrics import accuracy_score, confusion_matrix, classification_report\n",
    "\n",
    "# 이미 학습된 lsvc 모델을 테스트 데이터로 예측\n",
    "predicted = lsvc.predict(tfidfv_test)  # tfidfv_test는 테스트 데이터를 TF-IDF로 변환한 것\n",
    "\n",
    "# 정확도 계산\n",
    "accuracy = accuracy_score(y_test, predicted)  # y_test는 실제 테스트 데이터의 레이블\n",
    "print(f\"Test Accuracy: {accuracy:.4f}\")\n",
    "\n",
    "# 혼동행렬 계산\n",
    "conf_matrix = confusion_matrix(y_test, predicted)\n",
    "print(\"Confusion Matrix:\")\n",
    "print(conf_matrix)\n",
    "\n",
    "# 분류 리포트 출력 (정밀도, 재현율, F1 Score 등을 포함)\n",
    "class_report = classification_report(y_test, predicted)\n",
    "print(\"Classification Report:\")\n",
    "print(class_report)\n"
   ]
  },
  {
   "cell_type": "markdown",
   "id": "46b8dc2f",
   "metadata": {},
   "source": [
    "정하진 않았지만 좋다고 하기에 랜덤포레스트 모델을 실행해보겠습니다.\n",
    "#### 랜덤 포레스트(Random Forest)"
   ]
  },
  {
   "cell_type": "code",
   "execution_count": 58,
   "id": "7574db28",
   "metadata": {},
   "outputs": [
    {
     "name": "stdout",
     "output_type": "stream",
     "text": [
      "정확도: 0.701246660730187\n"
     ]
    }
   ],
   "source": [
    "from sklearn.ensemble import RandomForestClassifier\n",
    "\n",
    "# RandomForestClassifier 선언 (estimator 5개, random_state=0)\n",
    "forest = RandomForestClassifier(n_estimators=5, random_state=0)\n",
    "\n",
    "# 모델 훈련 (tfidfv는 TF-IDF로 변환한 훈련 데이터, y_train은 훈련 레이블)\n",
    "forest.fit(tfidfv, y_train)\n",
    "\n",
    "predicted = forest.predict(tfidfv_test) #테스트 데이터에 대한 예측\n",
    "print(\"정확도:\", accuracy_score(y_test, predicted)) #예측값과 실제값 비교"
   ]
  },
  {
   "cell_type": "markdown",
   "id": "956f24b8",
   "metadata": {},
   "source": [
    "num_words=10000개 일 때 보다는 3% 더 높은 정확도를 보였다.\n",
    "\n",
    "랜덤 포레스트 방식이 컴플리먼트 나이브 베이즈(CNB) 분류기보다 나은지 확인하기 위해 CNB를 실행해보겠다."
   ]
  },
  {
   "cell_type": "code",
   "execution_count": 59,
   "id": "9767b81d",
   "metadata": {},
   "outputs": [
    {
     "name": "stdout",
     "output_type": "stream",
     "text": [
      "정확도: 0.7707034728406055\n"
     ]
    }
   ],
   "source": [
    "cb = ComplementNB()\n",
    "cb.fit(tfidfv, y_train)\n",
    "\n",
    "predicted = cb.predict(tfidfv_test) #테스트 데이터에 대한 예측\n",
    "print(\"정확도:\", accuracy_score(y_test, predicted)) #예측값과 실제값 비교"
   ]
  },
  {
   "cell_type": "markdown",
   "id": "3545eb30",
   "metadata": {},
   "source": [
    "여전히 CNB 가 높기에. 보팅 방식에는 \n",
    "1) 로지스틱 회귀 \n",
    "2) 서포트 벡터 머신 \n",
    "3) CNB 모델 을 \n",
    "\n",
    "사용하여 소프트 보팅을 하였을 때 성능을 비교해보겠다."
   ]
  },
  {
   "cell_type": "markdown",
   "id": "3a525ba9",
   "metadata": {},
   "source": [
    "#### 보팅(Voting)\n",
    "- 로지스틱회귀, Complement Naive Bayes, 서포트벡터머신 사용"
   ]
  },
  {
   "cell_type": "markdown",
   "id": "2a271466",
   "metadata": {},
   "source": [
    "> 주의: SVC는 확률을 제공하지 않음! 보팅 사용 조치 필요\n",
    "\n",
    "- SVC 사용: LinearSVC는 확률을 제공하지 않으므로, 대신 SVC를 사용하여 `probability=True` 를 설정\n",
    "    - 이렇게 하면 소프트 보팅에서 필요로 하는 확률 예측이 가능\n",
    "- Voting Classifier: 소프트 보팅을 사용하여 각 모델의 확률 기반 예측값을 결합하여 최종 예측을 수행"
   ]
  },
  {
   "cell_type": "code",
   "execution_count": 62,
   "id": "46716316",
   "metadata": {},
   "outputs": [
    {
     "name": "stdout",
     "output_type": "stream",
     "text": [
      "Voting Classifier Accuracy: 0.8268\n"
     ]
    }
   ],
   "source": [
    "from sklearn.ensemble import VotingClassifier\n",
    "from sklearn.linear_model import LogisticRegression\n",
    "from sklearn.naive_bayes import ComplementNB\n",
    "from sklearn.svm import SVC  # LinearSVC 대신 SVC 사용\n",
    "from sklearn.metrics import accuracy_score\n",
    "\n",
    "# 조건 1: 로지스틱 회귀 모델 (L2 패널티 사용)\n",
    "log_clf = LogisticRegression(penalty='l2', solver='liblinear', random_state=0)\n",
    "\n",
    "# 조건 2: Complement Naive Bayes\n",
    "cnb_clf = ComplementNB()\n",
    "\n",
    "# 조건 3: SVC (확률 예측을 위해 probability=True 설정)\n",
    "svc_clf = SVC(probability=True, random_state=0)\n",
    "\n",
    "# 소프트 보팅 분류기 생성\n",
    "voting_classifier = VotingClassifier(\n",
    "    estimators=[('lr', log_clf), ('cnb', cnb_clf), ('svc', svc_clf)], \n",
    "    voting='soft'  # 소프트 보팅 (확률 기반)\n",
    ")\n",
    "\n",
    "# 모델 학습\n",
    "voting_classifier.fit(tfidfv, y_train)\n",
    "\n",
    "# 예측\n",
    "predicted = voting_classifier.predict(tfidfv_test)\n",
    "\n",
    "# 성능 평가\n",
    "accuracy = accuracy_score(y_test, predicted)\n",
    "print(f\"Voting Classifier Accuracy: {accuracy:.4f}\")\n"
   ]
  },
  {
   "cell_type": "markdown",
   "id": "c253569a",
   "metadata": {},
   "source": [
    "## num_words에 따른 평가 정리\n",
    "\n",
    "|num_words|f1-score|로지스틱회귀|SVC|보팅|\n",
    "|-----|---|---|---|---|\n",
    "|10000|0.66|0.81|0.79|0.79|\n",
    "|None|0.60|0.81|0.79|0.79|\n",
    "|5000|0.67|0.80|0.77|0.82|\n",
    "\n",
    "- 표를 정리해서 보이기만 해도, 10000개와 None 부분은 별로 차이가 없는 것을 알 수 있다.\n",
    "- 그나마 좀 다른 점이라면 5000개를 줬을 때 부분은 80%대를 넘기지 못한 보팅 방식이 82%를 달성한 것을 볼 수 있다."
   ]
  },
  {
   "cell_type": "code",
   "execution_count": null,
   "id": "c643f479",
   "metadata": {},
   "outputs": [],
   "source": []
  },
  {
   "cell_type": "markdown",
   "id": "01e8a1e6",
   "metadata": {},
   "source": [
    "## 4. 딥러닝 모델과 비교해 보기\n",
    "- RNN 모델 비교\n",
    "- LSTM 모델 비교"
   ]
  },
  {
   "cell_type": "code",
   "execution_count": 67,
   "id": "21e5ad69",
   "metadata": {
    "scrolled": false
   },
   "outputs": [
    {
     "name": "stdout",
     "output_type": "stream",
     "text": [
      "Epoch 1/50\n",
      "113/113 [==============================] - 9s 76ms/step - loss: 2.4642 - accuracy: 0.3537 - val_loss: 2.2658 - val_accuracy: 0.3945\n",
      "Epoch 2/50\n",
      "113/113 [==============================] - 8s 74ms/step - loss: 2.4010 - accuracy: 0.3942 - val_loss: 2.3556 - val_accuracy: 0.3868\n",
      "Epoch 3/50\n",
      "113/113 [==============================] - 8s 74ms/step - loss: 2.0110 - accuracy: 0.4857 - val_loss: 2.1804 - val_accuracy: 0.4274\n",
      "Epoch 4/50\n",
      "113/113 [==============================] - 8s 73ms/step - loss: 1.7358 - accuracy: 0.5630 - val_loss: 2.1328 - val_accuracy: 0.4597\n",
      "Epoch 5/50\n",
      "113/113 [==============================] - 8s 74ms/step - loss: 1.4970 - accuracy: 0.6287 - val_loss: 2.2359 - val_accuracy: 0.4580\n",
      "Epoch 6/50\n",
      "113/113 [==============================] - 8s 74ms/step - loss: 1.1395 - accuracy: 0.7208 - val_loss: 2.2953 - val_accuracy: 0.4585\n",
      "Epoch 7/50\n",
      "113/113 [==============================] - 8s 74ms/step - loss: 0.8699 - accuracy: 0.7847 - val_loss: 2.4207 - val_accuracy: 0.4602\n",
      "Epoch 8/50\n",
      "113/113 [==============================] - 8s 75ms/step - loss: 0.6659 - accuracy: 0.8366 - val_loss: 2.5893 - val_accuracy: 0.4619\n",
      "Epoch 9/50\n",
      "113/113 [==============================] - 8s 74ms/step - loss: 0.5113 - accuracy: 0.8832 - val_loss: 2.6434 - val_accuracy: 0.4597\n",
      "Epoch 10/50\n",
      "113/113 [==============================] - 8s 74ms/step - loss: 0.4025 - accuracy: 0.9105 - val_loss: 2.8515 - val_accuracy: 0.4480\n",
      "Epoch 11/50\n",
      "113/113 [==============================] - 8s 74ms/step - loss: 0.3091 - accuracy: 0.9347 - val_loss: 2.8952 - val_accuracy: 0.4558\n",
      "Epoch 12/50\n",
      "113/113 [==============================] - 8s 74ms/step - loss: 0.2435 - accuracy: 0.9478 - val_loss: 3.0028 - val_accuracy: 0.4563\n",
      "Epoch 13/50\n",
      "113/113 [==============================] - 8s 75ms/step - loss: 0.2026 - accuracy: 0.9523 - val_loss: 3.0985 - val_accuracy: 0.4508\n",
      "Epoch 14/50\n",
      "113/113 [==============================] - 8s 74ms/step - loss: 0.1768 - accuracy: 0.9559 - val_loss: 3.1095 - val_accuracy: 0.4563\n",
      "Epoch 15/50\n",
      "113/113 [==============================] - 8s 74ms/step - loss: 0.1511 - accuracy: 0.9585 - val_loss: 3.1998 - val_accuracy: 0.4541\n",
      "Epoch 16/50\n",
      "113/113 [==============================] - 8s 74ms/step - loss: 0.1337 - accuracy: 0.9592 - val_loss: 3.2012 - val_accuracy: 0.4591\n",
      "Epoch 17/50\n",
      "113/113 [==============================] - 8s 74ms/step - loss: 0.1250 - accuracy: 0.9630 - val_loss: 3.2554 - val_accuracy: 0.4680\n",
      "Epoch 18/50\n",
      "113/113 [==============================] - 8s 74ms/step - loss: 0.1212 - accuracy: 0.9617 - val_loss: 3.2882 - val_accuracy: 0.4474\n",
      "Epoch 19/50\n",
      "113/113 [==============================] - 8s 74ms/step - loss: 0.1097 - accuracy: 0.9617 - val_loss: 3.4325 - val_accuracy: 0.4535\n",
      "Epoch 20/50\n",
      "113/113 [==============================] - 8s 74ms/step - loss: 0.1068 - accuracy: 0.9609 - val_loss: 3.4283 - val_accuracy: 0.4391\n",
      "Epoch 21/50\n",
      "113/113 [==============================] - 8s 74ms/step - loss: 0.1039 - accuracy: 0.9635 - val_loss: 3.3557 - val_accuracy: 0.4602\n",
      "Epoch 22/50\n",
      "113/113 [==============================] - 8s 75ms/step - loss: 0.0990 - accuracy: 0.9616 - val_loss: 3.4590 - val_accuracy: 0.4563\n",
      "Epoch 23/50\n",
      "113/113 [==============================] - 8s 74ms/step - loss: 0.0951 - accuracy: 0.9617 - val_loss: 3.5019 - val_accuracy: 0.4613\n",
      "Epoch 24/50\n",
      "113/113 [==============================] - 9s 75ms/step - loss: 0.0989 - accuracy: 0.9624 - val_loss: 3.4183 - val_accuracy: 0.4691\n",
      "Epoch 25/50\n",
      "113/113 [==============================] - 8s 75ms/step - loss: 0.0917 - accuracy: 0.9609 - val_loss: 3.4485 - val_accuracy: 0.4597\n",
      "Epoch 26/50\n",
      "113/113 [==============================] - 8s 75ms/step - loss: 0.0876 - accuracy: 0.9619 - val_loss: 3.5453 - val_accuracy: 0.4474\n",
      "Epoch 27/50\n",
      "113/113 [==============================] - 9s 75ms/step - loss: 0.0937 - accuracy: 0.9602 - val_loss: 3.6469 - val_accuracy: 0.4374\n",
      "Epoch 28/50\n",
      "113/113 [==============================] - 8s 74ms/step - loss: 0.0887 - accuracy: 0.9601 - val_loss: 3.4559 - val_accuracy: 0.4641\n",
      "Epoch 29/50\n",
      "113/113 [==============================] - 8s 74ms/step - loss: 0.0828 - accuracy: 0.9635 - val_loss: 3.5685 - val_accuracy: 0.4469\n",
      "Epoch 30/50\n",
      "113/113 [==============================] - 8s 74ms/step - loss: 0.0845 - accuracy: 0.9612 - val_loss: 3.5655 - val_accuracy: 0.4669\n",
      "Epoch 31/50\n",
      "113/113 [==============================] - 8s 74ms/step - loss: 0.0921 - accuracy: 0.9609 - val_loss: 3.7010 - val_accuracy: 0.4474\n",
      "Epoch 32/50\n",
      "113/113 [==============================] - 8s 74ms/step - loss: 0.0922 - accuracy: 0.9626 - val_loss: 3.6335 - val_accuracy: 0.4480\n",
      "Epoch 33/50\n",
      "113/113 [==============================] - 8s 74ms/step - loss: 0.0893 - accuracy: 0.9603 - val_loss: 3.7047 - val_accuracy: 0.4391\n",
      "Epoch 34/50\n",
      "113/113 [==============================] - 8s 74ms/step - loss: 0.0934 - accuracy: 0.9613 - val_loss: 3.5689 - val_accuracy: 0.4652\n",
      "Epoch 35/50\n",
      "113/113 [==============================] - 8s 74ms/step - loss: 0.0872 - accuracy: 0.9623 - val_loss: 3.6630 - val_accuracy: 0.4502\n",
      "Epoch 36/50\n",
      "113/113 [==============================] - 8s 74ms/step - loss: 0.0830 - accuracy: 0.9599 - val_loss: 3.6054 - val_accuracy: 0.4452\n",
      "Epoch 37/50\n",
      "113/113 [==============================] - 8s 74ms/step - loss: 0.0800 - accuracy: 0.9610 - val_loss: 3.8324 - val_accuracy: 0.4263\n",
      "Epoch 38/50\n",
      "113/113 [==============================] - 8s 74ms/step - loss: 0.0784 - accuracy: 0.9609 - val_loss: 3.6989 - val_accuracy: 0.4602\n",
      "Epoch 39/50\n",
      "113/113 [==============================] - 8s 73ms/step - loss: 0.0769 - accuracy: 0.9640 - val_loss: 3.7067 - val_accuracy: 0.4552\n",
      "Epoch 40/50\n",
      "113/113 [==============================] - 8s 74ms/step - loss: 0.0761 - accuracy: 0.9634 - val_loss: 3.6275 - val_accuracy: 0.4574\n",
      "Epoch 41/50\n",
      "113/113 [==============================] - 8s 75ms/step - loss: 0.0765 - accuracy: 0.9613 - val_loss: 3.6659 - val_accuracy: 0.4524\n",
      "Epoch 42/50\n",
      "113/113 [==============================] - 8s 73ms/step - loss: 0.0752 - accuracy: 0.9614 - val_loss: 3.8356 - val_accuracy: 0.4296\n",
      "Epoch 43/50\n",
      "113/113 [==============================] - 8s 75ms/step - loss: 0.0752 - accuracy: 0.9616 - val_loss: 3.8517 - val_accuracy: 0.4324\n",
      "Epoch 44/50\n",
      "113/113 [==============================] - 8s 74ms/step - loss: 0.0706 - accuracy: 0.9651 - val_loss: 3.7305 - val_accuracy: 0.4430\n",
      "Epoch 45/50\n",
      "113/113 [==============================] - 8s 74ms/step - loss: 0.0733 - accuracy: 0.9620 - val_loss: 3.6459 - val_accuracy: 0.4597\n",
      "Epoch 46/50\n",
      "113/113 [==============================] - 8s 74ms/step - loss: 0.0759 - accuracy: 0.9630 - val_loss: 3.7026 - val_accuracy: 0.4597\n",
      "Epoch 47/50\n",
      "113/113 [==============================] - 8s 74ms/step - loss: 0.0718 - accuracy: 0.9642 - val_loss: 3.6543 - val_accuracy: 0.4697\n",
      "Epoch 48/50\n",
      "113/113 [==============================] - 8s 74ms/step - loss: 0.0848 - accuracy: 0.9598 - val_loss: 3.7100 - val_accuracy: 0.4802\n",
      "Epoch 49/50\n",
      "113/113 [==============================] - 8s 74ms/step - loss: 0.1747 - accuracy: 0.9383 - val_loss: 3.7995 - val_accuracy: 0.4174\n",
      "Epoch 50/50\n",
      "113/113 [==============================] - 8s 75ms/step - loss: 0.1535 - accuracy: 0.9446 - val_loss: 3.8916 - val_accuracy: 0.4257\n",
      "71/71 [==============================] - 1s 8ms/step - loss: 3.7545 - accuracy: 0.4234\n",
      "Test 정확도: 0.4234\n",
      "정확도: 0.4234\n"
     ]
    }
   ],
   "source": [
    "import numpy as np\n",
    "from tensorflow.keras.datasets import reuters\n",
    "from tensorflow.keras.models import Sequential\n",
    "from tensorflow.keras.layers import Embedding, SimpleRNN, Dense\n",
    "from tensorflow.keras.preprocessing.sequence import pad_sequences\n",
    "from tensorflow.keras.utils import to_categorical\n",
    "from sklearn.metrics import accuracy_score\n",
    "\n",
    "# 1. 데이터 전처리 함수\n",
    "def preprocess_data(num_words=5000, maxlen=100):\n",
    "    \n",
    "    (x_train, y_train), (x_test, y_test) = reuters.load_data(num_words=num_words, test_split=0.2)\n",
    "    \n",
    "    # 시퀀스의 길이를 맞추기 위한 패딩\n",
    "    x_train = pad_sequences(x_train, maxlen=maxlen)\n",
    "    x_test = pad_sequences(x_test, maxlen=maxlen)\n",
    "    \n",
    "    # 원-핫 인코딩\n",
    "    num_classes = np.max(y_train) + 1  # 클래스 개수 (0부터 시작하므로 +1)\n",
    "    y_train = to_categorical(y_train, num_classes)\n",
    "    y_test = to_categorical(y_test, num_classes)\n",
    "    \n",
    "    return x_train, y_train, x_test, y_test, num_classes\n",
    "\n",
    "# 2. 모델 생성 함수\n",
    "def build_rnn_model(vocab_size, maxlen, num_classes):\n",
    "\n",
    "    model = Sequential()\n",
    "    model.add(Embedding(input_dim=vocab_size, output_dim=128, input_length=maxlen))  # 임베딩 레이어\n",
    "    model.add(SimpleRNN(128))  # RNN 레이어\n",
    "    model.add(Dense(num_classes, activation='softmax'))  # 출력 레이어 (다중 클래스 분류)\n",
    "    \n",
    "    model.compile(optimizer='adam', loss='categorical_crossentropy', metrics=['accuracy'])\n",
    "    \n",
    "    return model\n",
    "\n",
    "# 3. 모델 학습 함수\n",
    "def train_model(model, x_train, y_train, batch_size=64, epochs=50, validation_split=0.2):\n",
    "\n",
    "    history = model.fit(x_train, y_train, batch_size=batch_size, epochs=epochs, validation_split=validation_split)\n",
    "    return history\n",
    "\n",
    "# 4. 모델 평가 함수\n",
    "def evaluate_model(model, x_test, y_test):\n",
    "\n",
    "    test_loss, test_acc = model.evaluate(x_test, y_test)\n",
    "    print(f\"Test 정확도: {test_acc:.4f}\")\n",
    "    \n",
    "    # 예측값 계산\n",
    "    y_pred = model.predict(x_test)\n",
    "    y_pred_classes = np.argmax(y_pred, axis=1)\n",
    "    y_true_classes = np.argmax(y_test, axis=1)\n",
    "    \n",
    "    # 정확도 출력\n",
    "    accuracy = accuracy_score(y_true_classes, y_pred_classes)\n",
    "    print(f\"정확도: {accuracy:.4f}\")\n",
    "    \n",
    "    return accuracy\n",
    "\n",
    "# 5. 전체 실행 함수(파이프라인 정의)\n",
    "def run_rnn_pipeline(num_words=5000, maxlen=100, epochs=50):\n",
    "\n",
    "    # 데이터 전처리\n",
    "    x_train, y_train, x_test, y_test, num_classes = preprocess_data(num_words=num_words, maxlen=maxlen)\n",
    "    \n",
    "    # 모델 생성\n",
    "    model = build_rnn_model(vocab_size=num_words, maxlen=maxlen, num_classes=num_classes)\n",
    "    \n",
    "    # 모델 학습\n",
    "    train_model(model, x_train, y_train, epochs=epochs)\n",
    "    \n",
    "    # 모델 평가\n",
    "    evaluate_model(model, x_test, y_test)\n",
    "\n",
    "# 6. RNN 파이프라인 실행\n",
    "run_rnn_pipeline(num_words=5000, maxlen=100, epochs=50)\n"
   ]
  },
  {
   "cell_type": "markdown",
   "id": "eaec6011",
   "metadata": {},
   "source": [
    "LSTM 모델"
   ]
  },
  {
   "cell_type": "code",
   "execution_count": 70,
   "id": "cd513bd2",
   "metadata": {},
   "outputs": [
    {
     "name": "stdout",
     "output_type": "stream",
     "text": [
      "Epoch 1/50\n",
      "113/113 [==============================] - 4s 17ms/step - loss: 2.4670 - accuracy: 0.3958 - val_loss: 1.8568 - val_accuracy: 0.4997\n",
      "Epoch 2/50\n",
      "113/113 [==============================] - 1s 11ms/step - loss: 1.8762 - accuracy: 0.5008 - val_loss: 1.7249 - val_accuracy: 0.5409\n",
      "Epoch 3/50\n",
      "113/113 [==============================] - 1s 11ms/step - loss: 1.6535 - accuracy: 0.5687 - val_loss: 1.6248 - val_accuracy: 0.5988\n",
      "Epoch 4/50\n",
      "113/113 [==============================] - 1s 11ms/step - loss: 1.5010 - accuracy: 0.6171 - val_loss: 1.5140 - val_accuracy: 0.6127\n",
      "Epoch 5/50\n",
      "113/113 [==============================] - 1s 11ms/step - loss: 1.3457 - accuracy: 0.6497 - val_loss: 1.5275 - val_accuracy: 0.6071\n",
      "Epoch 6/50\n",
      "113/113 [==============================] - 1s 11ms/step - loss: 1.2318 - accuracy: 0.6828 - val_loss: 1.5661 - val_accuracy: 0.6010\n",
      "Epoch 7/50\n",
      "113/113 [==============================] - 1s 11ms/step - loss: 1.1262 - accuracy: 0.7088 - val_loss: 1.4349 - val_accuracy: 0.6372\n",
      "Epoch 8/50\n",
      "113/113 [==============================] - 1s 11ms/step - loss: 1.0505 - accuracy: 0.7317 - val_loss: 1.4280 - val_accuracy: 0.6561\n",
      "Epoch 9/50\n",
      "113/113 [==============================] - 1s 11ms/step - loss: 0.9908 - accuracy: 0.7495 - val_loss: 1.4340 - val_accuracy: 0.6455\n",
      "Epoch 10/50\n",
      "113/113 [==============================] - 1s 11ms/step - loss: 0.8952 - accuracy: 0.7719 - val_loss: 1.4555 - val_accuracy: 0.6778\n",
      "Epoch 11/50\n",
      "113/113 [==============================] - 1s 11ms/step - loss: 0.8493 - accuracy: 0.7868 - val_loss: 1.4678 - val_accuracy: 0.6683\n",
      "Epoch 12/50\n",
      "113/113 [==============================] - 1s 11ms/step - loss: 0.7918 - accuracy: 0.8049 - val_loss: 1.4864 - val_accuracy: 0.6683\n",
      "Epoch 13/50\n",
      "113/113 [==============================] - 1s 11ms/step - loss: 0.7371 - accuracy: 0.8186 - val_loss: 1.4949 - val_accuracy: 0.6778\n",
      "Epoch 14/50\n",
      "113/113 [==============================] - 1s 11ms/step - loss: 0.7164 - accuracy: 0.8263 - val_loss: 1.5307 - val_accuracy: 0.6594\n",
      "Epoch 15/50\n",
      "113/113 [==============================] - 1s 11ms/step - loss: 0.6672 - accuracy: 0.8315 - val_loss: 1.5256 - val_accuracy: 0.6756\n",
      "Epoch 16/50\n",
      "113/113 [==============================] - 1s 11ms/step - loss: 0.5991 - accuracy: 0.8516 - val_loss: 1.6964 - val_accuracy: 0.6411\n",
      "Epoch 17/50\n",
      "113/113 [==============================] - 1s 11ms/step - loss: 0.5926 - accuracy: 0.8546 - val_loss: 1.6091 - val_accuracy: 0.6784\n",
      "Epoch 18/50\n",
      "113/113 [==============================] - 1s 11ms/step - loss: 0.5497 - accuracy: 0.8651 - val_loss: 1.6032 - val_accuracy: 0.6867\n",
      "Epoch 19/50\n",
      "113/113 [==============================] - 1s 11ms/step - loss: 0.5423 - accuracy: 0.8710 - val_loss: 1.6364 - val_accuracy: 0.6600\n",
      "Epoch 20/50\n",
      "113/113 [==============================] - 1s 11ms/step - loss: 0.4987 - accuracy: 0.8764 - val_loss: 1.6330 - val_accuracy: 0.6795\n",
      "Epoch 21/50\n",
      "113/113 [==============================] - 1s 11ms/step - loss: 0.4720 - accuracy: 0.8838 - val_loss: 1.6815 - val_accuracy: 0.6806\n",
      "Epoch 22/50\n",
      "113/113 [==============================] - 1s 11ms/step - loss: 0.4546 - accuracy: 0.8877 - val_loss: 1.7657 - val_accuracy: 0.6711\n",
      "Epoch 23/50\n",
      "113/113 [==============================] - 1s 11ms/step - loss: 0.4619 - accuracy: 0.8839 - val_loss: 1.7455 - val_accuracy: 0.6678\n",
      "Epoch 24/50\n",
      "113/113 [==============================] - 1s 11ms/step - loss: 0.4170 - accuracy: 0.8977 - val_loss: 1.7502 - val_accuracy: 0.6828\n",
      "Epoch 25/50\n",
      "113/113 [==============================] - 1s 11ms/step - loss: 0.3966 - accuracy: 0.9023 - val_loss: 1.7274 - val_accuracy: 0.6706\n",
      "Epoch 26/50\n",
      "113/113 [==============================] - 1s 11ms/step - loss: 0.3989 - accuracy: 0.8983 - val_loss: 1.7985 - val_accuracy: 0.6834\n",
      "Epoch 27/50\n",
      "113/113 [==============================] - 1s 11ms/step - loss: 0.3628 - accuracy: 0.9088 - val_loss: 1.7888 - val_accuracy: 0.6772\n",
      "Epoch 28/50\n",
      "113/113 [==============================] - 1s 11ms/step - loss: 0.3209 - accuracy: 0.9239 - val_loss: 1.8385 - val_accuracy: 0.6822\n",
      "Epoch 29/50\n",
      "113/113 [==============================] - 1s 11ms/step - loss: 0.3183 - accuracy: 0.9194 - val_loss: 1.8486 - val_accuracy: 0.6756\n",
      "Epoch 30/50\n",
      "113/113 [==============================] - 1s 11ms/step - loss: 0.2907 - accuracy: 0.9255 - val_loss: 1.8950 - val_accuracy: 0.6784\n",
      "Epoch 31/50\n",
      "113/113 [==============================] - 1s 11ms/step - loss: 0.3029 - accuracy: 0.9261 - val_loss: 1.9183 - val_accuracy: 0.6656\n",
      "Epoch 32/50\n",
      "113/113 [==============================] - 1s 11ms/step - loss: 0.3069 - accuracy: 0.9208 - val_loss: 1.9048 - val_accuracy: 0.6789\n",
      "Epoch 33/50\n",
      "113/113 [==============================] - 1s 11ms/step - loss: 0.2801 - accuracy: 0.9257 - val_loss: 1.9470 - val_accuracy: 0.6761\n",
      "Epoch 34/50\n",
      "113/113 [==============================] - 1s 11ms/step - loss: 0.3028 - accuracy: 0.9247 - val_loss: 1.9703 - val_accuracy: 0.6756\n",
      "Epoch 35/50\n",
      "113/113 [==============================] - 1s 11ms/step - loss: 0.2796 - accuracy: 0.9290 - val_loss: 1.9991 - val_accuracy: 0.6761\n",
      "Epoch 36/50\n",
      "113/113 [==============================] - 1s 11ms/step - loss: 0.2603 - accuracy: 0.9328 - val_loss: 1.9816 - val_accuracy: 0.6923\n",
      "Epoch 37/50\n",
      "113/113 [==============================] - 1s 11ms/step - loss: 0.2261 - accuracy: 0.9431 - val_loss: 1.9733 - val_accuracy: 0.6861\n",
      "Epoch 38/50\n",
      "113/113 [==============================] - 1s 11ms/step - loss: 0.2175 - accuracy: 0.9446 - val_loss: 2.0197 - val_accuracy: 0.6828\n",
      "Epoch 39/50\n",
      "113/113 [==============================] - 1s 11ms/step - loss: 0.2045 - accuracy: 0.9468 - val_loss: 2.0504 - val_accuracy: 0.6900\n",
      "Epoch 40/50\n",
      "113/113 [==============================] - 1s 11ms/step - loss: 0.1929 - accuracy: 0.9464 - val_loss: 2.0650 - val_accuracy: 0.6867\n",
      "Epoch 41/50\n",
      "113/113 [==============================] - 1s 11ms/step - loss: 0.1855 - accuracy: 0.9520 - val_loss: 2.0646 - val_accuracy: 0.6850\n",
      "Epoch 42/50\n",
      "113/113 [==============================] - 1s 11ms/step - loss: 0.1857 - accuracy: 0.9505 - val_loss: 2.1117 - val_accuracy: 0.6861\n",
      "Epoch 43/50\n",
      "113/113 [==============================] - 1s 11ms/step - loss: 0.1895 - accuracy: 0.9496 - val_loss: 2.1532 - val_accuracy: 0.6778\n",
      "Epoch 44/50\n",
      "113/113 [==============================] - 1s 11ms/step - loss: 0.1829 - accuracy: 0.9491 - val_loss: 2.1500 - val_accuracy: 0.6806\n",
      "Epoch 45/50\n",
      "113/113 [==============================] - 1s 11ms/step - loss: 0.1868 - accuracy: 0.9513 - val_loss: 2.1144 - val_accuracy: 0.6733\n",
      "Epoch 46/50\n",
      "113/113 [==============================] - 1s 11ms/step - loss: 0.2065 - accuracy: 0.9450 - val_loss: 2.0957 - val_accuracy: 0.6811\n",
      "Epoch 47/50\n",
      "113/113 [==============================] - 1s 11ms/step - loss: 0.1959 - accuracy: 0.9449 - val_loss: 2.0928 - val_accuracy: 0.6811\n",
      "Epoch 48/50\n",
      "113/113 [==============================] - 1s 11ms/step - loss: 0.1674 - accuracy: 0.9562 - val_loss: 2.1464 - val_accuracy: 0.6767\n",
      "Epoch 49/50\n",
      "113/113 [==============================] - 1s 11ms/step - loss: 0.3518 - accuracy: 0.9058 - val_loss: 2.1002 - val_accuracy: 0.6689\n",
      "Epoch 50/50\n",
      "113/113 [==============================] - 1s 11ms/step - loss: 0.2450 - accuracy: 0.9321 - val_loss: 2.0859 - val_accuracy: 0.6878\n",
      "71/71 [==============================] - 0s 4ms/step - loss: 2.3208 - accuracy: 0.6616\n",
      "Test Accuracy: 0.6616\n",
      "Accuracy on Test Data: 0.6616\n"
     ]
    }
   ],
   "source": [
    "import numpy as np\n",
    "from tensorflow.keras.datasets import reuters\n",
    "from tensorflow.keras.models import Sequential\n",
    "from tensorflow.keras.layers import Embedding, LSTM, Dense, Dropout\n",
    "from tensorflow.keras.preprocessing.sequence import pad_sequences\n",
    "from tensorflow.keras.utils import to_categorical\n",
    "from sklearn.metrics import accuracy_score\n",
    "\n",
    "# 1. 데이터 전처리 함수\n",
    "def preprocess_data(num_words=5000, maxlen=100):\n",
    "\n",
    "    (x_train, y_train), (x_test, y_test) = reuters.load_data(num_words=num_words, test_split=0.2)\n",
    "    \n",
    "    # 시퀀스의 길이를 맞추기 위한 패딩\n",
    "    x_train = pad_sequences(x_train, maxlen=maxlen)\n",
    "    x_test = pad_sequences(x_test, maxlen=maxlen)\n",
    "    \n",
    "    # 원-핫 인코딩\n",
    "    num_classes = np.max(y_train) + 1  # 클래스 개수 (0부터 시작하므로 +1)\n",
    "    y_train = to_categorical(y_train, num_classes)\n",
    "    y_test = to_categorical(y_test, num_classes)\n",
    "    \n",
    "    return x_train, y_train, x_test, y_test, num_classes\n",
    "\n",
    "# 2. LSTM 모델 생성 함수\n",
    "def build_lstm_model(vocab_size, maxlen, num_classes):\n",
    "\n",
    "    model = Sequential()\n",
    "    model.add(Embedding(input_dim=vocab_size, output_dim=128, input_length=maxlen))\n",
    "    \n",
    "    # 첫 번째 LSTM 레이어 (드롭아웃 추가)\n",
    "    model.add(LSTM(128, return_sequences=True))  # return_sequences=True: 시퀀스를 다음 LSTM 레이어로 전달\n",
    "    model.add(Dropout(0.5))  # 과적합 방지를 위한 드롭아웃\n",
    "    \n",
    "    # 두 번째 LSTM 레이어 (마지막 시퀀스만 출력)\n",
    "    model.add(LSTM(64))\n",
    "    model.add(Dropout(0.5))\n",
    "    \n",
    "    model.add(Dense(num_classes, activation='softmax'))\n",
    "    \n",
    "    model.compile(optimizer='adam', loss='categorical_crossentropy', metrics=['accuracy'])\n",
    "    \n",
    "    return model\n",
    "\n",
    "# 3. 모델 학습 함수\n",
    "def train_model(model, x_train, y_train, batch_size=64, epochs=50, validation_split=0.2):\n",
    "\n",
    "    history = model.fit(x_train, y_train, batch_size=batch_size, epochs=epochs, validation_split=validation_split)\n",
    "    return history\n",
    "\n",
    "# 4. 모델 평가 함수\n",
    "def evaluate_model(model, x_test, y_test):\n",
    "\n",
    "    test_loss, test_acc = model.evaluate(x_test, y_test)\n",
    "    print(f\"Test Accuracy: {test_acc:.4f}\")\n",
    "    \n",
    "    y_pred = model.predict(x_test)\n",
    "    y_pred_classes = np.argmax(y_pred, axis=1)\n",
    "    y_true_classes = np.argmax(y_test, axis=1)\n",
    "    \n",
    "    accuracy = accuracy_score(y_true_classes, y_pred_classes)\n",
    "    print(f\"Accuracy on Test Data: {accuracy:.4f}\")\n",
    "    \n",
    "    return accuracy\n",
    "\n",
    "# 5. 전체 실행 함수\n",
    "def run_lstm_pipeline(num_words=5000, maxlen=100, epochs=50):\n",
    "\n",
    "    # 데이터 전처리\n",
    "    x_train, y_train, x_test, y_test, num_classes = preprocess_data(num_words=num_words, maxlen=maxlen)\n",
    "    \n",
    "    # 모델 생성\n",
    "    model = build_lstm_model(vocab_size=num_words, maxlen=maxlen, num_classes=num_classes)\n",
    "    \n",
    "    # 모델 학습\n",
    "    train_model(model, x_train, y_train, epochs=epochs)\n",
    "    \n",
    "    # 모델 평가\n",
    "    evaluate_model(model, x_test, y_test)\n",
    "\n",
    "# 6. LSTM 파이프라인 실행\n",
    "run_lstm_pipeline(num_words=5000, maxlen=100, epochs=50)\n"
   ]
  },
  {
   "cell_type": "markdown",
   "id": "8eea9224",
   "metadata": {},
   "source": [
    "### 평가 (5000 base)\n",
    "- 첫 번째 시도(Epoch: 10/50, RNN 레이어) - Accuracy: 0.4791->0.4257\n",
    "- 두 번째 시도(Epoch: 10/50, LSTM 레이어) - Accuracy: 0.6046->0.66~0.69 "
   ]
  },
  {
   "cell_type": "markdown",
   "id": "ada17db4",
   "metadata": {},
   "source": [
    "#### 뉴스 카테고리 다중 분류 방식 중 보팅 방식이 왜 RNN, LSTM 모델 보다 더 정확도가 잘 나오는걸까?\n",
    "- 보팅 방식은 **여러 개의 다른 머신 러닝 모델의 예측을 조합**하여 최종 결과를 도출하는 앙상블 학습 방식임. 이는 개별 모델 **하나보다 더 좋은 성능**을 발휘할 가능성이 크다. \n",
    "- 물론, RNN,LSTM 모델은 시퀀스 데이터를 처리하기에 긴 시퀀스, 복잡한 문맥의 데이터를 이해하는데 유리함. 하지만 뉴스 카테고리 분류 문제처럼 **특정 단어 빈도에 의존도가 높고**, **문맥 의존도가 낮은 문제**에서는 성능이 저하됨, 그렇기에 단어 빈도를 기반으로 하는 보팅 방식이 더 적합하다고 볼 수 있다.\n",
    "- 그리고 보팅 방식은 여러 모델을 더 결합함으로 **과적합**을 방지할 수 있다.\n",
    "\n",
    "##### 로지스틱 회귀도 높다.(80%) 그렇다면 다중 분류 문제에는 딥러닝 모델보다 머신러닝 모델이 더 성능이 좋은가?\n",
    "- 그건 아니다. 문제의 특성이나 데이터셋의 특징 등에 따른 모델의 목적에 따라 선택하기 나름이다. 다만, TF-IDF 같은 방식으로 단어를 수치화하여 학습시키는 머신러닝 모델은 단어 빈도 기반 문제에 적합하다.\n",
    "- 그렇기에 로지스틱 회귀 모델도 각 단어의 빈도와 카테고리 간의 관계를 잘 설명할 수 있는 선형 모델로서, 뉴스 분류 작업에서 매우 효과적이라고 볼 수 있다."
   ]
  },
  {
   "cell_type": "markdown",
   "id": "858696c1",
   "metadata": {},
   "source": [
    "|num_words|f1-score|로지스틱회귀|SVC|보팅|RNN|LSTM|\n",
    "|-----|---|---|---|---|---|---|\n",
    "|10000|0.66|0.81|0.79|0.79|---|---|\n",
    "|None|0.60|0.81|0.79|0.79|---|---|\n",
    "|5000|0.67|0.80|0.77|0.82|0.48|0.69|"
   ]
  },
  {
   "cell_type": "markdown",
   "id": "46e384b7",
   "metadata": {},
   "source": [
    "## 회고\n",
    "```\n",
    "오늘은 뉴스 카테고리를 다중분류하는 다양한 방식에 대해 공부해봤다. \n",
    "로이터 뉴스 데이터는 다른 데이터와 다르게 재밌었다. \n",
    "이미 토큰화된 인덱스 리스트로 제공되어 다시 데이터를 원본으로 복원하는 과정에서 많은 인사이트를 얻었다. \n",
    "\n",
    "다양한 모델을 사용할 때, complement Naive Bayes classifier 모델에 대해 잘 몰랐었는데, 데이터의 불균형을 해결하는 방법으로 Bayes 모델을 사용해 가중치를 부여하는 특징에 대해 알아가서 좋았고, 특히 보팅 하는 방식을 딱 한번 해봤는데, 이번에 다양한 모델로 시도를 해봐서 되게 좋았다.\n",
    "\n",
    "확실한건, 앞으로 프로젝트를 진행하게 되면 데이터의 특성을 가장 먼저 파악하는 것이 중요한 것 같았다. 이번에 흔한 텍스트 데이터가 아닌, 이미 토큰화된 데이터로 시작해봤는데. 이걸 해결하고 복원하고 학습하는 경험이 앞으로도 정말 중요할 것 같았다.\n",
    "```"
   ]
  },
  {
   "cell_type": "code",
   "execution_count": null,
   "id": "18f2ce33",
   "metadata": {},
   "outputs": [],
   "source": []
  }
 ],
 "metadata": {
  "kernelspec": {
   "display_name": "Python 3 (ipykernel)",
   "language": "python",
   "name": "python3"
  },
  "language_info": {
   "codemirror_mode": {
    "name": "ipython",
    "version": 3
   },
   "file_extension": ".py",
   "mimetype": "text/x-python",
   "name": "python",
   "nbconvert_exporter": "python",
   "pygments_lexer": "ipython3",
   "version": "3.9.7"
  }
 },
 "nbformat": 4,
 "nbformat_minor": 5
}
